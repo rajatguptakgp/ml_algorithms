{
 "cells": [
  {
   "cell_type": "code",
   "execution_count": 1,
   "metadata": {},
   "outputs": [],
   "source": [
    "import os\n",
    "import numpy as np\n",
    "import pandas as pd\n",
    "import networkx as nx\n",
    "import itertools\n",
    "import matplotlib.pyplot as plt\n",
    "from sklearn.model_selection import train_test_split\n",
    "from sklearn.metrics.pairwise import cosine_similarity\n",
    "from ordered_set import OrderedSet\n",
    "from tqdm import tqdm\n",
    "\n",
    "import warnings\n",
    "warnings.filterwarnings('ignore')"
   ]
  },
  {
   "cell_type": "code",
   "execution_count": 2,
   "metadata": {},
   "outputs": [],
   "source": [
    "# # download ML1M dataset\n",
    "# !wget https://files.grouplens.org/datasets/movielens/ml-1m.zip\n",
    "# !unzip ml-1m.zip"
   ]
  },
  {
   "cell_type": "code",
   "execution_count": 3,
   "metadata": {},
   "outputs": [],
   "source": [
    "# config\n",
    "# alpha from section 2.3 of paper\n",
    "alpha = 0.01\n",
    "\n",
    "# iterations for random walk\n",
    "n_iter = 1000\n",
    "\n",
    "# K in RecWalk K-step\n",
    "K = 20\n",
    "\n",
    "# eta in RecWalk PR \n",
    "eta = 0.8"
   ]
  },
  {
   "cell_type": "code",
   "execution_count": 4,
   "metadata": {},
   "outputs": [],
   "source": [
    "# preprocessing movies data\n",
    "with open('ml-1m/movies.dat','r', encoding=\"ISO-8859-1\") as f:\n",
    "    data = f.read().splitlines()\n",
    "\n",
    "data = list(map(lambda x: x.split('::'), data))\n",
    "movies_df = pd.DataFrame(data, columns = ['movieID','title','genres'])\n",
    "movies_df['movieID'] = movies_df['movieID'].astype('int')"
   ]
  },
  {
   "cell_type": "code",
   "execution_count": 5,
   "metadata": {},
   "outputs": [],
   "source": [
    "# preprocessing ratings data\n",
    "with open('ml-1m/ratings.dat','r', encoding=\"ISO-8859-1\") as f:\n",
    "    data = f.read().splitlines()\n",
    "\n",
    "data = list(map(lambda x: x.split('::'), data))\n",
    "ratings_df = pd.DataFrame(data, columns = ['userID','movieID','rating','timestamp'])\n",
    "ratings_df[['userID','movieID','rating']] = ratings_df[['userID','movieID','rating']].astype('int')"
   ]
  },
  {
   "cell_type": "code",
   "execution_count": 6,
   "metadata": {},
   "outputs": [
    {
     "data": {
      "text/plain": [
       "((900188, 4), (100021, 4))"
      ]
     },
     "execution_count": 6,
     "metadata": {},
     "output_type": "execute_result"
    }
   ],
   "source": [
    "# splitting data into train and validation set \n",
    "ratings_df, ratings_val = train_test_split(ratings_df, test_size=0.1, random_state=42)\n",
    "ratings_df.shape, ratings_val.shape"
   ]
  },
  {
   "cell_type": "code",
   "execution_count": 7,
   "metadata": {},
   "outputs": [
    {
     "name": "stdout",
     "output_type": "stream",
     "text": [
      "Number of Users: 6040\n",
      "Number of Movies: 3694\n"
     ]
    }
   ],
   "source": [
    "users_list = ratings_df['userID'].unique().tolist()\n",
    "movies_list = ratings_df['movieID'].unique().tolist()\n",
    "\n",
    "n_users = len(users_list)\n",
    "n_movies = len(movies_list)\n",
    "\n",
    "# relabelling movieIDs for RecWalk\n",
    "movieID2idx = dict(zip(movies_list, range(n_movies)))\n",
    "idx2movieID = {v:k for k, v in movieID2idx.items()}\n",
    "movieID2name = dict(zip(movies_df['movieID'].values, movies_df['title'].values))\n",
    "ratings_df['movieID'].replace(movieID2idx, inplace=True)\n",
    "\n",
    "print('Number of Users:', n_users) \n",
    "print('Number of Movies:', n_movies)"
   ]
  },
  {
   "cell_type": "code",
   "execution_count": 8,
   "metadata": {},
   "outputs": [],
   "source": [
    "def get_R_W_mat(ratings_df):\n",
    "    # mapping users to their rated movies\n",
    "    interaction_dict = dict(ratings_df.groupby('userID')['movieID'].apply(lambda x: np.array(x)))\n",
    "\n",
    "    # mapping users to their ratings\n",
    "    ratings_dict = dict(ratings_df.groupby('userID')['rating'].apply(lambda x: np.array(x)))\n",
    "\n",
    "    R = np.zeros((n_users, n_movies), dtype='int')\n",
    "    ratings_mat = np.zeros((n_users, n_movies), dtype='int')\n",
    "\n",
    "    for userID, movieIDs in interaction_dict.items():\n",
    "        # highlight interaction\n",
    "        R[userID-1, movieIDs] = 1\n",
    "        \n",
    "        # highlight rating\n",
    "        ratings_mat[userID-1, movieIDs] = ratings_dict[userID]\n",
    "\n",
    "    # item-item similarity matrix\n",
    "    # pairwise cosine similarity\n",
    "    W = cosine_similarity(ratings_mat.T, ratings_mat.T)\n",
    "    return R, W"
   ]
  },
  {
   "cell_type": "code",
   "execution_count": 9,
   "metadata": {},
   "outputs": [],
   "source": [
    "def get_AG_mat(R):\n",
    "    M1 = np.zeros((n_users, n_users), dtype='int')\n",
    "    M2 = np.zeros((n_movies, n_movies), dtype='int')\n",
    "    AG = np.vstack((np.hstack((M1, R)), np.hstack((R.T, M2))))\n",
    "    return AG"
   ]
  },
  {
   "cell_type": "code",
   "execution_count": 10,
   "metadata": {},
   "outputs": [],
   "source": [
    "def get_H_mat(AG):\n",
    "    one = np.ones(n_users + n_movies)\n",
    "    H = np.linalg.inv(np.diag(AG @ one)) @ AG\n",
    "    return H"
   ]
  },
  {
   "cell_type": "code",
   "execution_count": 11,
   "metadata": {},
   "outputs": [],
   "source": [
    "def get_M_mat(W):\n",
    "    I = np.identity(n_users)\n",
    "    N1 = np.zeros((n_users, n_movies))\n",
    "    N2 = np.zeros((n_movies, n_users))\n",
    "\n",
    "    W_inf = max(np.sum(W, axis=1))\n",
    "    MI = W / W_inf + np.diag(1 - np.sum(W, axis=1) / W_inf)\n",
    "    M = np.vstack((np.hstack((I, N1)), np.hstack((N2, MI))))\n",
    "    return M"
   ]
  },
  {
   "cell_type": "code",
   "execution_count": 12,
   "metadata": {},
   "outputs": [],
   "source": [
    "def unittests(W, R, AG, H, M, P):\n",
    "    # checking non-interacted users\n",
    "    user_idxs = np.where(np.sum(R, axis=1)==0)[0]\n",
    "\n",
    "    # checking non-interacted movies\n",
    "    movie_idxs = np.where(np.sum(R, axis=0)==0)[0]\n",
    "\n",
    "    # ensure rows of R are non-zero\n",
    "    assert len(user_idxs)==0\n",
    "\n",
    "    # ensure columns of R are non-zero\n",
    "    assert len(movie_idxs)==0    \n",
    "\n",
    "    # ensuring shapes\n",
    "    assert W.shape==(n_movies, n_movies)\n",
    "    assert AG.shape == (n_users + n_movies, n_users + n_movies)\n",
    "    assert H.shape == AG.shape  \n",
    "    assert M.shape == (n_users + n_movies, n_users + n_movies)  \n",
    "    assert P.shape == (n_users + n_movies, n_users + n_movies)"
   ]
  },
  {
   "cell_type": "code",
   "execution_count": 13,
   "metadata": {},
   "outputs": [],
   "source": [
    "def get_P_mat(alpha, ratings_df):\n",
    "    R, W = get_R_W_mat(ratings_df)\n",
    "    AG = get_AG_mat(R)\n",
    "    H = get_H_mat(AG)\n",
    "    M = get_M_mat(W)\n",
    "    P = alpha * H + (1-alpha) * M  \n",
    "\n",
    "    # run unittests\n",
    "    unittests(W, R, AG, H, M, P)  \n",
    "    return P"
   ]
  },
  {
   "cell_type": "code",
   "execution_count": 14,
   "metadata": {},
   "outputs": [],
   "source": [
    "def random_walk(P_user, initial_state, n_iter):\n",
    "    new_initial_state = initial_state\n",
    "    NORM = []\n",
    "    for i in tqdm(range(n_iter)):\n",
    "        final_state = np.dot(np.transpose(P_user), new_initial_state)\n",
    "        prev_initial_state = new_initial_state\n",
    "        new_initial_state = final_state\n",
    "        L1 = np.linalg.norm(new_initial_state-prev_initial_state, ord=1)\n",
    "        NORM.append(L1)\n",
    "\n",
    "        if i!=0 and i%5==0:\n",
    "            print(f'L1 Norm at {i+1} iteration..', L1)        \n",
    "        if np.allclose(new_initial_state, prev_initial_state):\n",
    "            print(f'Converged at {i+1} iterations..')\n",
    "            break\n",
    "    return final_state"
   ]
  },
  {
   "cell_type": "code",
   "execution_count": 15,
   "metadata": {},
   "outputs": [],
   "source": [
    "def recwalk_Kstep(P, K):\n",
    "    M1 = np.identity(n_users)\n",
    "    M2 = np.zeros((n_users, n_movies))\n",
    "    M3 = np.zeros((n_movies, n_users))\n",
    "    M4 = np.zeros((n_movies, n_movies))\n",
    "    teleport_dist = np.vstack((np.hstack((M1, M2)), np.hstack((M3, M4))))\n",
    "    assert teleport_dist.shape == (n_users + n_movies, n_users + n_movies)\n",
    "    \n",
    "    state = teleport_dist.copy()\n",
    "    for _ in tqdm(range(K)):\n",
    "        state = np.dot(np.transpose(P), state)\n",
    "    \n",
    "    recommendations = state[:n_users, n_users:]\n",
    "    assert recommendations.shape == (n_users, n_movies)\n",
    "    return recommendations\n",
    "\n",
    "def recwalk_PR(P, eta, n_iter):\n",
    "    M1 = np.identity(n_users)\n",
    "    M2 = np.zeros((n_users, n_movies))\n",
    "    M3 = np.zeros((n_movies, n_users))\n",
    "    M4 = np.zeros((n_movies, n_movies))\n",
    "    teleport_dist = np.vstack((np.hstack((M1, M2)), np.hstack((M3, M4))))\n",
    "    assert teleport_dist.shape == (n_users + n_movies, n_users + n_movies)\n",
    "\n",
    "    random_surf = np.ones((n_users + n_movies, n_users + n_movies)) / (n_users + n_movies)\n",
    "    \n",
    "    print('Running random walk..')\n",
    "    P_user = P * eta + (1-eta) * random_surf\n",
    "    limiting_state = random_walk(P_user, teleport_dist, n_iter)\n",
    "    recommendations = limiting_state[:n_users, n_users:]\n",
    "    assert recommendations.shape == (n_users, n_movies)\n",
    "    return recommendations"
   ]
  },
  {
   "cell_type": "code",
   "execution_count": 16,
   "metadata": {},
   "outputs": [],
   "source": [
    "def get_user_predictions(user, recommendations, idx2movieID, rated_movies_dict, commonID_flag):\n",
    "    # getting predictions based on recwalk scores\n",
    "    movie_idxs = recommendations[user-1].argsort()[::-1]\n",
    "    sorted_movies = list(map(lambda x: idx2movieID[x], movie_idxs)) \n",
    "    \n",
    "    # check whether user is in both training and validation set\n",
    "    if commonID_flag:\n",
    "        sorted_movies_set = OrderedSet(sorted_movies)\n",
    "        return list(sorted_movies_set - rated_movies_dict[user])\n",
    "    else:\n",
    "        return sorted_movies\n",
    "\n",
    "def get_predictions(ratings_df, ratings_val, recommendations, idx2movieID):\n",
    "    \"\"\" \n",
    "    for users predictions will be made for movies \n",
    "    which they have not rated from training set\n",
    "    \"\"\"\n",
    "    \n",
    "    # check for users present in validation and training set\n",
    "    commonIDs = set(ratings_val['userID']) and set(ratings_df['userID'])\n",
    "    uncommonIDs = set(ratings_val['userID']) - set(ratings_df['userID'])\n",
    "\n",
    "    rated_movies_dict = dict(ratings_df.groupby('userID')['movieID'].apply(lambda x: set(x)))\n",
    "    \n",
    "    # sorted set for movies \n",
    "    pred = dict(zip(commonIDs, map(lambda x: get_user_predictions(x, recommendations, idx2movieID, rated_movies_dict, 1), commonIDs)))  \n",
    "    if uncommonIDs:\n",
    "        pred2 = {}\n",
    "        pred2 = dict(zip(uncommonIDs, map(lambda x: get_user_predictions(x, recommendations, idx2movieID, rated_movies_dict, 0), uncommonIDs)))\n",
    "        pred.update(pred2)\n",
    "    return pred"
   ]
  },
  {
   "cell_type": "code",
   "execution_count": 17,
   "metadata": {},
   "outputs": [],
   "source": [
    "def get_eval_data(ratings_df, ratings_val, recommendations, idx2movieID):\n",
    "    gt = {}\n",
    "    pred = {}\n",
    "    ratings_val = ratings_val.reset_index(drop=True)\n",
    "\n",
    "    # getting ground truth data\n",
    "    for idx in range(len(ratings_val)):\n",
    "        userID = ratings_val.loc[idx, 'userID']\n",
    "        movieID = ratings_val.loc[idx, 'movieID']\n",
    "        rating = ratings_val.loc[idx, 'rating']\n",
    "        if gt.get(userID):\n",
    "            gt[userID].append([movieID, rating])\n",
    "        else:\n",
    "            gt[userID] = [[movieID, rating]]\n",
    "\n",
    "    for user, v in gt.items():\n",
    "        # sorting movies according to ratings\n",
    "        gt[user] = np.array(sorted(v, key = lambda x: x[1], reverse=True)).astype('int')[:, 0].tolist()  \n",
    "\n",
    "    # get predictions based on RecWalk K-Step \n",
    "    pred = get_predictions(ratings_df, ratings_val, recommendations, idx2movieID)    \n",
    "    return gt, pred"
   ]
  },
  {
   "cell_type": "code",
   "execution_count": 18,
   "metadata": {},
   "outputs": [],
   "source": [
    "def hit_k(act, pred, k):\n",
    "    act_set = set(act)\n",
    "    pred_set = set(pred[:k])   \n",
    "    common_set = act_set & pred_set   \n",
    "    if (len(common_set)>0):\n",
    "        return 1\n",
    "    else:\n",
    "        return 0\n",
    "    \n",
    "def precision_k(act, pred, k):\n",
    "    act_set = set(act)\n",
    "    pred_set = set(pred[:k])    \n",
    "    common_set = act_set & pred_set   \n",
    "    if len(pred_set)==0:\n",
    "        return 0\n",
    "    else:\n",
    "        return len(common_set) / len(pred_set)\n",
    "\n",
    "def recall_k(act, pred, k):\n",
    "    act_set = set(act)\n",
    "    pred_set = set(pred[:k])   \n",
    "    common_set = act_set & pred_set\n",
    "    if len(act_set)==0:\n",
    "        return 0\n",
    "    else:\n",
    "        return len(common_set) / len(act_set)\n",
    "\n",
    "def mean_reciprocal_rank_k(act, pred, k):\n",
    "    found = 0\n",
    "    for i in range(len(pred)):\n",
    "        if pred[i] in act[:k]:\n",
    "            found = 1\n",
    "            break\n",
    "    if found:\n",
    "        mrr = 1 / (i+1)\n",
    "    else:\n",
    "        mrr = 0\n",
    "    return mrr\n",
    "\n",
    "# overall MRR\n",
    "def mean_reciprocal_rank(gt, predictions):\n",
    "    def find_reciprocal_rank(act, pred):\n",
    "        pred = np.array(pred)\n",
    "        for p in pred:\n",
    "            if p in act:\n",
    "                rank = np.where(pred==p)[0][0] + 1\n",
    "                return 1/rank\n",
    "        return 0\n",
    "    return np.mean(list(map(lambda x, y: find_reciprocal_rank(x, y), gt, predictions)))    "
   ]
  },
  {
   "cell_type": "code",
   "execution_count": 19,
   "metadata": {},
   "outputs": [],
   "source": [
    "def calculate_scores(metric):    \n",
    "    values_normalized = []\n",
    "    for v in metric.values():\n",
    "        values_normalized.append(v[0]/max(v[1],1))\n",
    "    return values_normalized\n",
    "\n",
    "def get_recommendation_metrics(gt, pred):\n",
    "    hit = {}\n",
    "    rec = {}\n",
    "    prec = {}\n",
    "    mrr = {}\n",
    "\n",
    "    topK = [5, 10, 20, 50, 100, 200]\n",
    "    for i in topK:\n",
    "        hit[i] = [0, 0]\n",
    "        rec[i] = [0, 0]\n",
    "        prec[i] = [0, 0]\n",
    "        mrr[i] = [0, 0]\n",
    "\n",
    "    for user in gt.keys():\n",
    "        for topk in rec.keys():\n",
    "            # if number of predictions are less than topK, skip \n",
    "            if len(pred[user])<topk:\n",
    "                break\n",
    "\n",
    "            h = hit_k(gt[user], pred[user], topk)\n",
    "            r = recall_k(gt[user], pred[user], topk)\n",
    "            p = precision_k(gt[user], pred[user], topk)\n",
    "            m = mean_reciprocal_rank_k(gt[user], pred[user], topk)\n",
    "\n",
    "            hit[topk] = [hit[topk][0]+h, hit[topk][1]+1]\n",
    "            rec[topk] = [rec[topk][0]+r, rec[topk][1]+1]\n",
    "            prec[topk] = [prec[topk][0]+p, prec[topk][1]+1]\n",
    "            mrr[topk] = [mrr[topk][0]+m, mrr[topk][1]+1]\n",
    "\n",
    "    labels=['Precision@K','Recall@K','Hit@K','MRR@K']\n",
    "    metrics=[prec,rec,hit,mrr]\n",
    "    df_scores = pd.DataFrame(index=topK, columns=['Precision@K','Recall@K','F1@K','Hit@K','MRR@K'])\n",
    "    for label, metric in zip(labels, metrics):\n",
    "        scores = calculate_scores(metric)\n",
    "        df_scores[label]=scores\n",
    "    df_scores['F1@K']=(2 * df_scores['Recall@K'] * df_scores['Precision@K'])/(df_scores['Recall@K'] + df_scores['Precision@K'])\n",
    "    df_scores = df_scores.reset_index()\n",
    "    df_scores.rename(columns={'index':'K'}, inplace=True)\n",
    "    return df_scores"
   ]
  },
  {
   "cell_type": "code",
   "execution_count": 20,
   "metadata": {},
   "outputs": [],
   "source": [
    "def return_plot(df_scores,label):\n",
    "    X=df_scores.K\n",
    "    Y=df_scores[label].values\n",
    "    \n",
    "    plt.title(f'{label}')\n",
    "    plt.xlabel('K')\n",
    "    plt.ylabel('Values')\n",
    "    plt.xticks(X)\n",
    "    plt.plot(X,Y,c='k',linestyle='--',marker='o')\n",
    "    return plt\n",
    "\n",
    "def plotting(df_scores):\n",
    "    fig=plt.figure(figsize=(17, 5), dpi= 80, facecolor='w', edgecolor='k')\n",
    "    plt.subplot(131)\n",
    "    plt1 = return_plot(df_scores,'Precision@K')\n",
    "    plt.subplot(132)\n",
    "    plt2 = return_plot(df_scores,'Recall@K')\n",
    "    plt.subplot(133)\n",
    "    plt3 = return_plot(df_scores,'F1@K')\n",
    "    plt.show()\n",
    "\n",
    "    fig=plt.figure(figsize=(18, 5), dpi= 80, facecolor='w', edgecolor='k')\n",
    "    plt.subplot(121)\n",
    "    plt4 = return_plot(df_scores,'Hit@K')\n",
    "    plt.subplot(122)\n",
    "    plt5 = return_plot(df_scores,'MRR@K')\n",
    "    plt.show()"
   ]
  },
  {
   "cell_type": "code",
   "execution_count": 21,
   "metadata": {},
   "outputs": [],
   "source": [
    "def run(method_K_step):\n",
    "    # transition probability matrix\n",
    "    print('Getting transition matrix..')\n",
    "    P = get_P_mat(alpha, ratings_df)\n",
    "\n",
    "    # transition matrix through RecWalk K-step or PR method\n",
    "    print('Generating recommendations..')\n",
    "    if method_K_step:\n",
    "        recommendations = recwalk_Kstep(P, K)\n",
    "    else:\n",
    "        recommendations = recwalk_PR(P, eta, n_iter)\n",
    "\n",
    "    # building ground-truth and prediction dictionaries\n",
    "    print('Getting evaluation data..\\n')\n",
    "    gt, pred = get_eval_data(ratings_df, ratings_val, recommendations, idx2movieID)\n",
    "\n",
    "    df_scores = get_recommendation_metrics(gt, pred)\n",
    "    print('Recommendation metrics..')\n",
    "    print(df_scores,'\\n')\n",
    "\n",
    "    # getting overall MRR\n",
    "    user_rated_movies = list(gt.values())\n",
    "    predictions = list(pred.values())\n",
    "    print('Overall MRR: ', mean_reciprocal_rank(user_rated_movies, predictions))\n",
    "\n",
    "    plotting(df_scores)"
   ]
  },
  {
   "cell_type": "code",
   "execution_count": 22,
   "metadata": {},
   "outputs": [],
   "source": [
    "# # RecWalk K-step\n",
    "# run(method_K_step=True)"
   ]
  },
  {
   "cell_type": "code",
   "execution_count": 23,
   "metadata": {},
   "outputs": [
    {
     "name": "stdout",
     "output_type": "stream",
     "text": [
      "Getting transition matrix..\n",
      "Generating recommendations..\n",
      "Running random walk..\n"
     ]
    },
    {
     "name": "stderr",
     "output_type": "stream",
     "text": [
      "  0%|          | 5/1000 [00:43<2:24:36,  8.72s/it]"
     ]
    },
    {
     "name": "stdout",
     "output_type": "stream",
     "text": [
      "L1 Norm at 6 iteration.. 0.13171201915803815\n"
     ]
    },
    {
     "name": "stderr",
     "output_type": "stream",
     "text": [
      "  1%|          | 10/1000 [01:25<2:19:39,  8.46s/it]"
     ]
    },
    {
     "name": "stdout",
     "output_type": "stream",
     "text": [
      "L1 Norm at 11 iteration.. 0.041439357899315334\n"
     ]
    },
    {
     "name": "stderr",
     "output_type": "stream",
     "text": [
      "  2%|▏         | 15/1000 [02:07<2:17:46,  8.39s/it]"
     ]
    },
    {
     "name": "stdout",
     "output_type": "stream",
     "text": [
      "L1 Norm at 16 iteration.. 0.01302210298511489\n"
     ]
    },
    {
     "name": "stderr",
     "output_type": "stream",
     "text": [
      "  2%|▏         | 16/1000 [02:15<2:17:25,  8.38s/it]"
     ]
    }
   ],
   "source": [
    "# RecWalk PR\n",
    "run(method_K_step=False)"
   ]
  }
 ],
 "metadata": {
  "interpreter": {
   "hash": "951daa5e1959839fcb325fff331f52e72634f7a1be998f6081ed7f433b63f1b3"
  },
  "kernelspec": {
   "display_name": "Python 3.8.11 64-bit ('base': conda)",
   "language": "python",
   "name": "python3"
  },
  "language_info": {
   "codemirror_mode": {
    "name": "ipython",
    "version": 3
   },
   "file_extension": ".py",
   "mimetype": "text/x-python",
   "name": "python",
   "nbconvert_exporter": "python",
   "pygments_lexer": "ipython3",
   "version": "3.8.11"
  },
  "orig_nbformat": 4
 },
 "nbformat": 4,
 "nbformat_minor": 2
}
