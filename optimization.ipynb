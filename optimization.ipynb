{
 "cells": [
  {
   "cell_type": "code",
   "execution_count": 1,
   "metadata": {},
   "outputs": [],
   "source": [
    "import numpy as np\n",
    "import matplotlib.pyplot as plt\n",
    "from scipy.optimize import minimize, Bounds\n",
    "from functools import reduce\n",
    "from sklearn.metrics import accuracy_score, mean_squared_error\n",
    "from sklearn.model_selection import train_test_split\n",
    "from sklearn.datasets import load_diabetes"
   ]
  },
  {
   "cell_type": "markdown",
   "metadata": {},
   "source": [
    "#### Constrained optimization\n",
    "\n",
    "In this notebook, we will look into how we can optimize functions beyond gradient descent. We will also have constraints that affect our solution. Gradient Descent with constraints is solved using Projected Gradient Descent.\n"
   ]
  },
  {
   "cell_type": "markdown",
   "metadata": {},
   "source": [
    "#### Example 1:\n",
    "\n",
    "We are solving the following constrained problem:\n",
    "<center>\n",
    "\n",
    "minimize $x^{2}+y^{2}+z^{2}$\n",
    "\n",
    "given $x+y+z=1$\n",
    "\n",
    "Solution: $(\\frac{1}{3},\\frac{1}{3},\\frac{1}{3})$\n",
    "</center>\n",
    "The above solution can be found using Lagrange multiplers."
   ]
  },
  {
   "cell_type": "code",
   "execution_count": 2,
   "metadata": {},
   "outputs": [
    {
     "data": {
      "text/plain": [
       "     fun: 0.33333333333333337\n",
       "     jac: array([0.66666668, 0.66666668, 0.66666668])\n",
       " message: 'Optimization terminated successfully'\n",
       "    nfev: 16\n",
       "     nit: 4\n",
       "    njev: 4\n",
       "  status: 0\n",
       " success: True\n",
       "       x: array([0.33333333, 0.33333333, 0.33333333])"
      ]
     },
     "execution_count": 2,
     "metadata": {},
     "output_type": "execute_result"
    }
   ],
   "source": [
    "func = lambda w: w.T @ w\n",
    "consts = ({'type':'eq', 'fun': lambda w: np.sum(w) - 1})\n",
    "\n",
    "w0 = [2,4,8]\n",
    "minimize(func, w0, constraints=consts)"
   ]
  },
  {
   "cell_type": "markdown",
   "metadata": {},
   "source": [
    "#### Example 2: Minimizing Negative Log-Likelihood (NLL Loss) - Logistic Regression\n",
    "\n",
    "We will try optimizing the NLL loss and obtain weights for Logistic Regression model setup. We can do the same using Gradient Descent as well.\n",
    "Note that only for linearly separable data, the decision boundary/hypothesis function has the potential to obtain 100% accuracy in correctly classifying data. Here, we will try to generate linearly separable data and get hypothesis by optimizing NLL loss."
   ]
  },
  {
   "cell_type": "code",
   "execution_count": 3,
   "metadata": {},
   "outputs": [],
   "source": [
    "def make_data(low, high, n_pts, include_bias):\n",
    "    X = np.random.uniform(low, high, size=(n_pts, 2))\n",
    "    Y = np.zeros(shape=(n_pts,))\n",
    "    \n",
    "    # making linearly separable data\n",
    "    pos_idx = np.where(X[:,0] + X[:,1] >= 1)[0]\n",
    "    neg_idx = np.where(X[:,0] + X[:,1] <= -1)[0]\n",
    "    Y[pos_idx] = 1\n",
    "    \n",
    "    chosen_idxs = np.append(pos_idx, neg_idx)\n",
    "    X = X[chosen_idxs]\n",
    "    Y = Y[chosen_idxs]\n",
    "    plt.scatter(X[:,0], X[:,1], c=Y)\n",
    "    plt.show()\n",
    "    \n",
    "    # incorporating bias term\n",
    "    if include_bias:\n",
    "        one = np.ones(X.shape[0]).reshape(-1,1)\n",
    "        X = np.hstack((one, X))    \n",
    "    return X, Y\n",
    "\n",
    "def get_splits(X, Y, test_size, random_state):\n",
    "    X_train, X_test, y_train, y_test = train_test_split(X, Y, test_size=test_size, random_state=random_state)\n",
    "    return X_train, X_test, y_train, y_test\n",
    "\n",
    "def get_accuracy(X, y_true, theta, threshold):\n",
    "    y_pred = (sigmoid(X @ theta) >= threshold) * 1\n",
    "    return accuracy_score(y_true, y_pred)"
   ]
  },
  {
   "cell_type": "markdown",
   "metadata": {},
   "source": [
    "#### Important Points: \n",
    "\n",
    "1. We will also implement numerically stable version of sigmoid since it can run into numerical overflow and underflow issues while exploring the search space.\n",
    "2. Since probabiltiies can be zero and likelihood is product of probabilities, the log-likelihood can approach negative infinity. We specify a tolerance level to deal with this issue."
   ]
  },
  {
   "cell_type": "code",
   "execution_count": 4,
   "metadata": {},
   "outputs": [],
   "source": [
    "# numerically stable sigmoid\n",
    "def sigmoid(x):\n",
    "    pos_mask = x>=0\n",
    "    neg_mask = x<0\n",
    "    sig_x_den = np.zeros(x.shape)\n",
    "    sig_x_den[pos_mask] = np.exp(-x[pos_mask])\n",
    "    sig_x_den[neg_mask] = np.exp(x[neg_mask])\n",
    "\n",
    "    sig_x_num = np.ones(x.shape)\n",
    "    sig_x_num[neg_mask] = sig_x_den[neg_mask]\n",
    "    sig_x = sig_x_num / (1 + sig_x_den)\n",
    "    return sig_x\n",
    "\n",
    "def bernoulli_func(p, y):\n",
    "    return p**y * (1-p)**(1-y)\n",
    "\n",
    "def negative_log_likelihood(X, Y, theta, eps):\n",
    "    score = list(map(lambda x: sigmoid(x), X @ theta))\n",
    "    probs = list(map(lambda p, y: bernoulli_func(p,y), score, Y))\n",
    "    L = reduce(lambda x, y: x*y, probs)\n",
    "    \n",
    "    # specifying tolerance for zero likelihood values\n",
    "    LL = np.log(L + eps)\n",
    "    NLL = -LL\n",
    "    return NLL\n",
    "\n",
    "def run_optimization(X_train, y_train, eps, bounds):\n",
    "    theta_init = np.random.normal(size=(X_train.shape[1],))\n",
    "    func = lambda theta: negative_log_likelihood(X_train, y_train, theta, eps)\n",
    "    sol = minimize(func, theta_init, bounds=bounds)\n",
    "    return sol    "
   ]
  },
  {
   "cell_type": "code",
   "execution_count": 5,
   "metadata": {},
   "outputs": [
    {
     "data": {
      "image/png": "[encoded data removed]",
      "text/plain": [
       "<Figure size 432x288 with 1 Axes>"
      ]
     },
     "metadata": {
      "needs_background": "light"
     },
     "output_type": "display_data"
    },
    {
     "name": "stdout",
     "output_type": "stream",
     "text": [
      "      fun: 4.349824216193576e-06\n",
      " hess_inv: array([[  693.91406674, -6793.07356131, -7339.54050867],\n",
      "       [-6793.07356147, 66571.72399615, 71926.18812031],\n",
      "       [-7339.54050912, 71926.18812019, 77711.56062026]])\n",
      "      jac: array([ 2.54065901e-06, -9.21640833e-06,  4.36605922e-06])\n",
      "  message: 'Optimization terminated successfully.'\n",
      "     nfev: 224\n",
      "      nit: 23\n",
      "     njev: 56\n",
      "   status: 0\n",
      "  success: True\n",
      "        x: array([-0.41378974, 11.98927914, 12.56738274]) \n",
      "\n",
      "Best Accuracy: 1.0\n"
     ]
    }
   ],
   "source": [
    "low = 5\n",
    "high = -5\n",
    "n_pts = 100\n",
    "test_size = 0.2\n",
    "random_state = 42\n",
    "threshold = 0.5\n",
    "eps = 1E-8\n",
    "include_bias = True\n",
    "bounds = None\n",
    "\n",
    "X, Y = make_data(low, high, n_pts, include_bias)\n",
    "X_train, X_test, y_train, y_test = get_splits(X, Y, test_size, random_state)\n",
    "\n",
    "best_sol = None\n",
    "best_sol_theta = None\n",
    "best_acc = -1\n",
    "n_iters = 100\n",
    "\n",
    "for _ in range(n_iters):\n",
    "    sol = run_optimization(X_train, y_train, eps, bounds)    \n",
    "    sol_found = sol.success\n",
    "    if sol_found:\n",
    "        sol_theta = sol.x\n",
    "        acc_score = get_accuracy(X_test, y_test, sol_theta, threshold)\n",
    "        if acc_score > best_acc:\n",
    "            best_acc = acc_score\n",
    "            best_sol = sol\n",
    "            best_sol_theta = sol_theta\n",
    "\n",
    "print(best_sol,'\\n')\n",
    "print('Best Accuracy:', best_acc)  "
   ]
  },
  {
   "cell_type": "markdown",
   "metadata": {},
   "source": [
    "#### Example 3: Linear SVM (Support Vector Machine)\n",
    "\n",
    "In this example, we will try to solve the maximum margin classifier (Linear SVM) problem for linearly separable data. \n",
    "\n",
    "The problem is defined as follows:\n",
    "<center>\n",
    "\n",
    "minimize $\\frac{W^{\\top} W}{2}$\n",
    "\n",
    "given $\\quad y_{i}\\left(w x_{i}+b\\right) \\geqslant 1$\n",
    "\n",
    "</center>"
   ]
  },
  {
   "cell_type": "code",
   "execution_count": 6,
   "metadata": {},
   "outputs": [],
   "source": [
    "def run_optimization(X, Y):\n",
    "    w0 = np.random.normal(size=(X.shape[1],))\n",
    "    loss_fn = lambda w: (w[1]**2 + w[2]**2) / 2\n",
    "    consts = ({'type': 'ineq', 'fun': lambda w: Y * (X @ w) - 1})\n",
    "    sol = minimize(loss_fn, w0, constraints=consts)\n",
    "    return sol\n",
    "    \n",
    "def get_accuracy(X, y_true, sol):\n",
    "    w = sol.x    \n",
    "    y_pred = (X @ w > 0) * 1\n",
    "    y_pred = 2 * y_pred - 1    \n",
    "    return accuracy_score(y_true, y_pred)"
   ]
  },
  {
   "cell_type": "code",
   "execution_count": 7,
   "metadata": {},
   "outputs": [
    {
     "data": {
      "image/png": "[encoded data removed]",
      "text/plain": [
       "<Figure size 432x288 with 1 Axes>"
      ]
     },
     "metadata": {
      "needs_background": "light"
     },
     "output_type": "display_data"
    },
    {
     "name": "stdout",
     "output_type": "stream",
     "text": [
      "     fun: 0.5742150015493086\n",
      "     jac: array([0.        , 0.79253944, 0.72132605])\n",
      " message: 'Optimization terminated successfully'\n",
      "    nfev: 12\n",
      "     nit: 3\n",
      "    njev: 3\n",
      "  status: 0\n",
      " success: True\n",
      "       x: array([0.01240409, 0.79253943, 0.72132604]) \n",
      "\n",
      "Accuracy Score: 1.0\n"
     ]
    }
   ],
   "source": [
    "low = 2\n",
    "high = -2\n",
    "n_pts = 100\n",
    "include_bias = True\n",
    "test_size = 0.2\n",
    "random_state = 42\n",
    "\n",
    "X, Y = make_data(low, high, n_pts, include_bias)\n",
    "\n",
    "# re-labelling data from (0,1) to (-1,1)\n",
    "Y = 2 * Y -1\n",
    "X_train, X_test, y_train, y_test = get_splits(X, Y, test_size, random_state)\n",
    "sol = run_optimization(X_train, y_train)\n",
    "print(sol,'\\n')\n",
    "\n",
    "acc_score = get_accuracy(X_test, y_test, sol)\n",
    "print('Accuracy Score:', acc_score)  "
   ]
  },
  {
   "cell_type": "markdown",
   "metadata": {},
   "source": [
    "#### Example 4: Minimizing Ordinary Least Squares (OLS) with constraints - Linear Regression\n",
    "\n",
    "We will use diabetes toy dataset from sklearn to model a regression problem while minimizing Least Squares function. However, we will also incorporate some constraints on the hypothesis function. \n",
    "\n",
    "The description of features is given on sklearn's website. The target variable is disease progression.\n",
    "Let's assume that there is higher likelihood of progression with increasing values of features i.e. the regression coefficients are non-negative. We will model this as a constraint. Essentially, we are modelling non-negative least squares optimization.\n",
    "\n",
    "The same problem can also be solved using **Projected Gradient Descent** i.e. Gradient Descent with constraints. There you project the iterative solution vector into constrained space while optimizing."
   ]
  },
  {
   "cell_type": "code",
   "execution_count": 8,
   "metadata": {},
   "outputs": [
    {
     "data": {
      "text/plain": [
       "((353, 10), (89, 10), (353,), (89,))"
      ]
     },
     "execution_count": 8,
     "metadata": {},
     "output_type": "execute_result"
    }
   ],
   "source": [
    "test_size = 0.2\n",
    "random_state = 42\n",
    "\n",
    "dataset = load_diabetes()\n",
    "X = dataset['data']\n",
    "Y = dataset['target']\n",
    "\n",
    "X_train, X_test, y_train, y_test = get_splits(X, Y, test_size, random_state)    \n",
    "X_train.shape, X_test.shape, y_train.shape, y_test.shape"
   ]
  },
  {
   "cell_type": "code",
   "execution_count": 9,
   "metadata": {},
   "outputs": [],
   "source": [
    "def OLS(X, Y, theta):\n",
    "    return np.sum((Y - X @ theta)**2) / X.shape[0]\n",
    "\n",
    "def run_optimization(X_train, y_train):\n",
    "    theta_init = np.random.normal(size=(X_train.shape[1],))\n",
    "    func = lambda theta: OLS(X_train, y_train, theta)\n",
    "    consts = ({'type':'ineq', 'fun': lambda theta: theta})\n",
    "    sol = minimize(func, theta_init, constraints=consts)\n",
    "    return sol    \n",
    "\n",
    "def get_rmse(theta, X, y_true):\n",
    "    y_pred = X @ theta\n",
    "    return np.sqrt(mean_squared_error(y_true, y_pred))"
   ]
  },
  {
   "cell_type": "code",
   "execution_count": 10,
   "metadata": {},
   "outputs": [
    {
     "name": "stdout",
     "output_type": "stream",
     "text": [
      "     fun: 26078.566714447657\n",
      "     jac: array([-9.76562500e-04,  6.03759766e-01,  4.88281250e-04, -2.44140625e-04,\n",
      "        1.23315430e+00,  1.01733398e+00,  8.61328125e-01,  4.88281250e-04,\n",
      "       -2.44140625e-04,  4.88281250e-04])\n",
      " message: 'Optimization terminated successfully'\n",
      "    nfev: 589\n",
      "     nit: 52\n",
      "    njev: 52\n",
      "  status: 0\n",
      " success: True\n",
      "       x: array([3.60213311e+01, 6.01758237e-15, 7.19401481e+02, 2.82693241e+02,\n",
      "       1.70394462e-13, 1.30162359e-13, 1.39730399e-15, 1.36019184e+00,\n",
      "       4.68192752e+02, 1.29697896e+02]) \n",
      "\n",
      "Best RMSE: 164.931\n"
     ]
    }
   ],
   "source": [
    "best_sol = None\n",
    "best_sol_theta = None\n",
    "best_rmse = float('inf')\n",
    "n_iters = 100\n",
    "\n",
    "for _ in range(n_iters):\n",
    "    sol = run_optimization(X_train, y_train)    \n",
    "    sol_found = sol.success\n",
    "    if sol_found:\n",
    "        sol_theta = sol.x\n",
    "        iter_rmse = get_rmse(sol_theta, X_test, y_test)\n",
    "        if iter_rmse < best_rmse:\n",
    "            best_rmse = iter_rmse\n",
    "            best_sol = sol\n",
    "            best_sol_theta = sol_theta\n",
    "\n",
    "print(best_sol,'\\n')\n",
    "print('Best RMSE:', best_rmse.round(3))            "
   ]
  },
  {
   "cell_type": "code",
   "execution_count": null,
   "metadata": {},
   "outputs": [],
   "source": []
  }
 ],
 "metadata": {
  "interpreter": {
   "hash": "951daa5e1959839fcb325fff331f52e72634f7a1be998f6081ed7f433b63f1b3"
  },
  "kernelspec": {
   "display_name": "Python 3.8.11 64-bit ('base': conda)",
   "language": "python",
   "name": "python3"
  },
  "language_info": {
   "codemirror_mode": {
    "name": "ipython",
    "version": 3
   },
   "file_extension": ".py",
   "mimetype": "text/x-python",
   "name": "python",
   "nbconvert_exporter": "python",
   "pygments_lexer": "ipython3",
   "version": "3.8.11"
  },
  "orig_nbformat": 4
 },
 "nbformat": 4,
 "nbformat_minor": 2
}
