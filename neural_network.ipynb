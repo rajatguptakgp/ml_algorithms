{
 "cells": [
  {
   "cell_type": "code",
   "execution_count": 1,
   "metadata": {},
   "outputs": [],
   "source": [
    "import numpy as np\n",
    "import pandas as pd\n",
    "import matplotlib.pyplot as plt\n",
    "from sklearn.model_selection import train_test_split\n",
    "from sklearn.preprocessing import StandardScaler\n",
    "from sklearn.metrics import balanced_accuracy_score"
   ]
  },
  {
   "cell_type": "markdown",
   "metadata": {},
   "source": [
    "### Neural Network from Scratch\n",
    "\n",
    "In this notebook, we will build a Multi-Layer Perceptron (MLP) from scratch. An MLP is a Feed-Forward and Fully Connected Neural Network that contains one or more hidden layers apart from input and output layer. We will build the Neural Network with one hidden layer.\n",
    " \n",
    "We will use the SEEDS dataset to build a Neural Network. The target contains 3 classes. It's a classification problem.\n",
    "\n",
    "The steps for training a neural network are as follows:\n",
    "1. **Training:**\n",
    "    1. Split data into training and validation sets\n",
    "    2. Initialize random weights and biases\n",
    "    3. For an epoch:\n",
    "        1. For each batch:\n",
    "            1. **Forward Pass:** Propagate through the network and calculate loss\n",
    "            2. **Backward Pass (Back-Propagation):**\n",
    "                1. Back-propagate through the network to calculate gradient of loss with respect to weights and biases\n",
    "                2. Update the weights and biases using an optimizer \n",
    "        2. Calculate mean training loss across all batches for the epoch\n",
    "        3. Calculate validation loss with final weights and biases at end of epoch\n",
    "    4. Repeat step 3 for significant number of epochs until loss convergence\n",
    "2. **Inference:**\n",
    "    1. Using final weights and biases, predict on testing data "
   ]
  },
  {
   "cell_type": "code",
   "execution_count": 2,
   "metadata": {},
   "outputs": [
    {
     "name": "stdout",
     "output_type": "stream",
     "text": [
      "--2022-01-18 00:21:08--  https://archive.ics.uci.edu/ml/machine-learning-databases/00236/seeds_dataset.txt\n",
      "Resolving archive.ics.uci.edu (archive.ics.uci.edu)... 128.195.10.252\n",
      "Connecting to archive.ics.uci.edu (archive.ics.uci.edu)|128.195.10.252|:443... connected.\n",
      "HTTP request sent, awaiting response... 200 OK\n",
      "Length: 9300 (9.1K) [application/x-httpd-php]\n",
      "Saving to: ‘seeds_dataset.txt’\n",
      "\n",
      "seeds_dataset.txt   100%[===================>]   9.08K  --.-KB/s    in 0s      \n",
      "\n",
      "2022-01-18 00:21:10 (43.5 MB/s) - ‘seeds_dataset.txt’ saved [9300/9300]\n",
      "\n"
     ]
    }
   ],
   "source": [
    "!wget https://archive.ics.uci.edu/ml/machine-learning-databases/00236/seeds_dataset.txt"
   ]
  },
  {
   "cell_type": "code",
   "execution_count": 3,
   "metadata": {},
   "outputs": [],
   "source": [
    "def make_data(path):\n",
    "    with open(path) as f:\n",
    "        data = f.read().splitlines()    \n",
    "    data = list(map(lambda x: x.split('\\t'), data))          \n",
    "\n",
    "    # preprocessing data\n",
    "    n_cols = np.array(list(map(lambda x: len(x), data)))\n",
    "    chosen_idxs = np.where(n_cols==8)[0]\n",
    "    data = list(map(lambda x: data[x], chosen_idxs))\n",
    "    return data"
   ]
  },
  {
   "cell_type": "code",
   "execution_count": 4,
   "metadata": {},
   "outputs": [],
   "source": [
    "def get_train_test_split(data, target_label, test_size, random_state):\n",
    "    df = pd.DataFrame(data).astype('float')\n",
    "    target = df[target_label]\n",
    "    target = pd.get_dummies(target)\n",
    "    df.drop(columns=target_label, inplace=True)\n",
    "    X = df.values\n",
    "    \n",
    "    # normalization for faster convergence\n",
    "    scaler = StandardScaler()\n",
    "    X = scaler.fit_transform(X)\n",
    "    \n",
    "    y = target.values\n",
    "    X_train, X_test, y_train, y_test = train_test_split(X, y, test_size=test_size, random_state=random_state, stratify=y)\n",
    "    return X_train, X_test, y_train, y_test"
   ]
  },
  {
   "cell_type": "code",
   "execution_count": 5,
   "metadata": {},
   "outputs": [
    {
     "data": {
      "text/plain": [
       "((159, 7), (40, 7), (159, 3), (40, 3))"
      ]
     },
     "execution_count": 5,
     "metadata": {},
     "output_type": "execute_result"
    }
   ],
   "source": [
    "target_label = 7\n",
    "test_size = 0.2\n",
    "random_state = 42\n",
    "data_path = 'seeds_dataset.txt'\n",
    "\n",
    "data = make_data(data_path)\n",
    "X_train, X_test, y_train, y_test = get_train_test_split(data, target_label, test_size, random_state)\n",
    "X_train.shape, X_test.shape, y_train.shape, y_test.shape"
   ]
  },
  {
   "cell_type": "markdown",
   "metadata": {},
   "source": [
    "#### Forward equations:\n",
    "$$\n",
    "\\begin{aligned}\n",
    "&Z_{1}=X W_{1}+B_{1} \\\\\n",
    "&Y_{1}=\\sigma\\left(Z_{1}\\right) \\\\\n",
    "&Z_{2}=Y_{1} W_{2}+B_{2}\n",
    "\\end{aligned}\n",
    "\\\\\n",
    "\\hat{y}=\\operatorname{softmax}\\left(Z_{2}\\right)\n",
    "$$\n",
    "\n",
    "#### Backward equations:\n",
    "$$\n",
    "\\begin{aligned}\n",
    "&d z_{2}=\\frac{\\partial L}{\\partial z_{2}}=\\frac{\\hat{y}-y}{N} \\\\\n",
    "&d Y_{1}=\\frac{\\partial L}{\\partial y_{1}}=d Z_{2} \\cdot W_{2}^{\\top} \\\\\n",
    "&d Z_{1}=d Y_{1} * Y_{1} * 1-Y_{1} \\\\\n",
    "&d W_{2}=Y_{1}^{\\top} d Z_{2} \\\\\n",
    "&d B_{2}=d Z_{2} 1 \\\\\n",
    "&d W_{1}=X^{\\top} d Z_{1} \\\\\n",
    "&d B_{1}=d Z_{1} 1\n",
    "\\end{aligned}\n",
    "$$"
   ]
  },
  {
   "cell_type": "code",
   "execution_count": 6,
   "metadata": {},
   "outputs": [],
   "source": [
    "def initialize_weights(batch_size, n_input, n_hidden, n_output):\n",
    "    W1 = np.random.normal(-1, 1, size=(n_input, n_hidden))\n",
    "    W2 = np.random.normal(-1, 1, size=(n_hidden, n_output))\n",
    "    B1 = np.random.normal(-1, 1, size=(batch_size, 1))\n",
    "    B2 = np.random.normal(-1, 1, size=(batch_size, 1))\n",
    "    return W1, W2, B1, B2\n",
    "\n",
    "def sigmoid(x):\n",
    "    return 1 / (1 + np.exp(-x))\n",
    "\n",
    "def dsigmoid(x):\n",
    "    return sigmoid(x) * (1 - sigmoid(x))\n",
    "\n",
    "def softmax(x):\n",
    "    return np.exp(x) / np.sum(np.exp(x), axis=1).reshape(-1,1)      \n",
    "\n",
    "def cross_entropy_loss(y_batch, y_score):\n",
    "    return -np.sum(np.multiply(y_batch, np.log(y_score))) / len(y_batch)    \n",
    "\n",
    "def forward(X_batch, y_batch, W1, B1, W2, B2):\n",
    "    Z1 = X_batch @ W1 + B1\n",
    "    Y1 = sigmoid(Z1)\n",
    "    Z2 = Y1 @ W2 + B2\n",
    "    y_score = softmax(Z2)\n",
    "    L = cross_entropy_loss(y_batch, y_score)\n",
    "    return Z1, Z2, Y1, y_score, L   \n",
    "\n",
    "def gradient(W1, W2, B1, B2, Z1, Z2, Y1, y_score, X_batch, y_batch, n_hidden, n_output):\n",
    "    dZ2 = (y_score - y_batch) / len(y_batch)\n",
    "    dY1 = dZ2 @ W2.T\n",
    "    dZ1 = dY1 * dsigmoid(Y1)\n",
    "    dW2 = Y1.T @ dZ2\n",
    "    dB2 = dZ2 @ np.ones(shape=(n_output,1))\n",
    "    dW1 = X_batch.T @ dZ1\n",
    "    dB1 = dZ1 @ np.ones(shape=(n_hidden,1))\n",
    "\n",
    "    assert dZ2.shape == Z2.shape\n",
    "    assert dY1.shape == Y1.shape\n",
    "    assert dZ1.shape == Z1.shape\n",
    "    assert dW2.shape == W2.shape\n",
    "    assert dB2.shape == B2.shape\n",
    "    assert dW1.shape == W1.shape\n",
    "    assert dB1.shape == B1.shape\n",
    "    return dW1, dW2, dB1, dB2     \n",
    "\n",
    "def updates(W1, W2, B1, B2, dW1, dW2, dB1, dB2, alpha):\n",
    "    W1 = W1 - alpha * dW1\n",
    "    W2 = W2 - alpha * dW2\n",
    "    B1 = B1 - alpha * dB1\n",
    "    B2 = B2 - alpha * dB2\n",
    "    return W1, W2, B1, B2\n",
    "\n",
    "def backward(W1, W2, B1, B2, Z1, Z2, Y1, y_score, X_batch, y_batch, alpha):\n",
    "    dW1, dW2, dB1, dB2 = gradient(W1, W2, B1, B2, Z1, Z2, Y1, y_score, X_batch, y_batch, n_hidden, n_output)\n",
    "    W1, W2, B1, B2 = updates(W1, W2, B1, B2, dW1, dW2, dB1, dB2, alpha)\n",
    "    return W1, W2, B1, B2"
   ]
  },
  {
   "cell_type": "code",
   "execution_count": 7,
   "metadata": {},
   "outputs": [],
   "source": [
    "def training(X_train, y_train, W1, W2, B1, B2, alpha, batch_size):\n",
    "    n_examples = X_train.shape[0]\n",
    "    \n",
    "    batch_runs = int(n_examples / batch_size)\n",
    "    loss = 0\n",
    "    for batch_idx in range(batch_runs):\n",
    "        batch_start = batch_idx * batch_size\n",
    "        batch_end = min((batch_idx + 1) * batch_size, n_examples)\n",
    "        X_batch = X_train[batch_start:batch_end]\n",
    "        y_batch = y_train[batch_start:batch_end]\n",
    "        Z1, Z2, Y1, y_score, L = forward(X_batch, y_batch, W1, B1, W2, B2)\n",
    "        W1, W2, B1, B2 = backward(W1, W2, B1, B2, Z1, Z2, Y1, y_score, X_batch, y_batch, alpha)\n",
    "        loss += L\n",
    "\n",
    "    mean_loss = loss / batch_runs\n",
    "    return W1, W2, B1, B2, mean_loss   "
   ]
  },
  {
   "cell_type": "code",
   "execution_count": 8,
   "metadata": {},
   "outputs": [],
   "source": [
    "def evaluate(X_test, y_test, W1, W2, B1, B2, batch_size):\n",
    "    n_examples = X_test.shape[0]\n",
    "    \n",
    "    batch_runs = int(n_examples / batch_size)\n",
    "    loss = 0\n",
    "    y_scores = []\n",
    "    for batch_idx in range(batch_runs):\n",
    "        batch_start = batch_idx * batch_size\n",
    "        batch_end = min((batch_idx + 1) * batch_size, n_examples)\n",
    "        X_batch = X_test[batch_start:batch_end]\n",
    "        y_batch = y_test[batch_start:batch_end]\n",
    "        Z1, Z2, Y1, y_score, L = forward(X_batch, y_batch, W1, B1, W2, B2)\n",
    "        loss += L\n",
    "        y_scores.append(y_score)\n",
    "        \n",
    "    mean_loss = loss / batch_runs\n",
    "    y_scores = np.array(y_scores).reshape(-1, y_score.shape[1])\n",
    "    return mean_loss, y_scores"
   ]
  },
  {
   "cell_type": "code",
   "execution_count": 9,
   "metadata": {},
   "outputs": [],
   "source": [
    "def get_accuracy(y_test, y_scores):\n",
    "    y_test = y_test[:len(y_scores)]\n",
    "    assert y_test.shape == y_scores.shape\n",
    "    y_true = np.flip(np.argsort(y_test, axis=1), axis=1)[:,0]\n",
    "    y_pred = np.flip(np.argsort(y_scores, axis=1), axis=1)[:,0]\n",
    "    return balanced_accuracy_score(y_true, y_pred)"
   ]
  },
  {
   "cell_type": "markdown",
   "metadata": {},
   "source": [
    "#### Hyperparameters - Learning Rate and Batch Size\n",
    "\n",
    "**Batch Size:** It's important to choose an appropriate batch size for training neural network. A small batch size can result in noisy gradients leading to unstable learning and is prone to bias. A large batch size can lead into memory issues as gradients are being computed for too many examples.\n",
    "\n",
    "**Learning Rate:** Similarly, an appropriate learning rate is important too. A shallow learning rate will lead into larger training time and potentially getting stuck into local minima. A large learning rate will result in oscillations therby not really converging at global minima."
   ]
  },
  {
   "cell_type": "code",
   "execution_count": 10,
   "metadata": {},
   "outputs": [],
   "source": [
    "alpha = 1E-3\n",
    "num_epochs = 1000\n",
    "n_input = X_train.shape[1]\n",
    "n_hidden = 32\n",
    "n_output = 3\n",
    "batch_size = 16\n",
    "\n",
    "history = {}\n",
    "for epoch_idx in range(num_epochs):\n",
    "    if epoch_idx ==0:\n",
    "        W1, W2, B1, B2 = initialize_weights(batch_size, n_input, n_hidden, n_output)\n",
    "    W1, W2, B1, B2, train_loss = training(X_train, y_train, W1, W2, B1, B2, alpha, batch_size)\n",
    "    val_loss, y_scores = evaluate(X_test, y_test, W1, W2, B1, B2, batch_size)\n",
    "    history[epoch_idx]= [train_loss, val_loss]"
   ]
  },
  {
   "cell_type": "code",
   "execution_count": 11,
   "metadata": {},
   "outputs": [
    {
     "data": {
      "image/png": "[encoded data removed]",
      "text/plain": [
       "<Figure size 432x288 with 1 Axes>"
      ]
     },
     "metadata": {
      "needs_background": "light"
     },
     "output_type": "display_data"
    },
    {
     "name": "stdout",
     "output_type": "stream",
     "text": [
      "Accuracy Score: 0.845\n"
     ]
    }
   ],
   "source": [
    "losses = np.array(list(history.values()))\n",
    "plt.title('Convergence Plot')\n",
    "plt.plot(losses[:,0], label='train_loss')\n",
    "plt.plot(losses[:,1], label='val_loss')\n",
    "plt.legend()\n",
    "plt.show()\n",
    "\n",
    "acc_score = get_accuracy(y_test, y_scores)\n",
    "print('Accuracy Score:', acc_score.round(3))"
   ]
  },
  {
   "cell_type": "code",
   "execution_count": null,
   "metadata": {},
   "outputs": [],
   "source": []
  }
 ],
 "metadata": {
  "interpreter": {
   "hash": "951daa5e1959839fcb325fff331f52e72634f7a1be998f6081ed7f433b63f1b3"
  },
  "kernelspec": {
   "display_name": "Python 3.8.11 64-bit ('base': conda)",
   "language": "python",
   "name": "python3"
  },
  "language_info": {
   "codemirror_mode": {
    "name": "ipython",
    "version": 3
   },
   "file_extension": ".py",
   "mimetype": "text/x-python",
   "name": "python",
   "nbconvert_exporter": "python",
   "pygments_lexer": "ipython3",
   "version": "3.8.11"
  },
  "orig_nbformat": 4
 },
 "nbformat": 4,
 "nbformat_minor": 2
}
