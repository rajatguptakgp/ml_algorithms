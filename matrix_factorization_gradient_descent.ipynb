{
 "cells": [
  {
   "cell_type": "code",
   "execution_count": 1,
   "metadata": {},
   "outputs": [],
   "source": [
    "import numpy as np\n",
    "import pandas as pd\n",
    "import matplotlib.pyplot as plt\n",
    "from sklearn.model_selection import train_test_split\n",
    "from sklearn.metrics import mean_squared_error"
   ]
  },
  {
   "cell_type": "markdown",
   "metadata": {},
   "source": [
    "#### Matrix Factorization using Gradient Descent\n",
    "\n",
    "The idea behind Matrix Factorization is that there can be some latent/hidden factors that express every user and every movie. As far as accuracy of model is concerned, we are not interested in knowing these factors however iterpretability/explainability of these hidden factors becomes an issue. \n",
    "\n",
    "The number of latent factors are also going to be small since there can be only a few factors that are common to users and movies.\n",
    "\n",
    "So we factorize the user-movie ratings matrix $R$ as a product of two matrices $P$ and $Q$. Since we are only considering a few factors, the reconstructed matrix $R^{'}$ will be different from $R$ and our objective is to minimize the difference between two. \n",
    "\n",
    "We do that by minimizing Forbenius norm of error: $\\epsilon = R-R^{'}$"
   ]
  },
  {
   "cell_type": "code",
   "execution_count": 2,
   "metadata": {},
   "outputs": [],
   "source": [
    "# preprocessing movies data\n",
    "with open('ml-1m/movies.dat','r', encoding=\"ISO-8859-1\") as f:\n",
    "    data = f.read().splitlines()\n",
    "\n",
    "data = list(map(lambda x: x.split('::'), data))\n",
    "movies_df = pd.DataFrame(data, columns = ['movieID','title','genres'])\n",
    "movies_df['movieID'] = movies_df['movieID'].astype('int')"
   ]
  },
  {
   "cell_type": "code",
   "execution_count": 3,
   "metadata": {},
   "outputs": [],
   "source": [
    "# preprocessing ratings data\n",
    "with open('ml-1m/ratings.dat','r', encoding=\"ISO-8859-1\") as f:\n",
    "    data = f.read().splitlines()\n",
    "\n",
    "data = list(map(lambda x: x.split('::'), data))\n",
    "ratings_df = pd.DataFrame(data, columns = ['userID','movieID','rating','timestamp'])\n",
    "ratings_df[['userID','movieID','rating']] = ratings_df[['userID','movieID','rating']].astype('int')"
   ]
  },
  {
   "cell_type": "code",
   "execution_count": 4,
   "metadata": {},
   "outputs": [
    {
     "data": {
      "text/plain": [
       "((900188, 4), (100021, 4))"
      ]
     },
     "execution_count": 4,
     "metadata": {},
     "output_type": "execute_result"
    }
   ],
   "source": [
    "# splitting data into train and validation set \n",
    "ratings_df, ratings_val = train_test_split(ratings_df, test_size=0.1, random_state=42)\n",
    "ratings_df.shape, ratings_val.shape"
   ]
  },
  {
   "cell_type": "code",
   "execution_count": 5,
   "metadata": {},
   "outputs": [],
   "source": [
    "def get_users_movies(df):\n",
    "    users_list = df['userID'].unique().tolist()\n",
    "    movies_list = df['movieID'].unique().tolist()\n",
    "    n_users = len(users_list)\n",
    "    n_movies = len(movies_list)\n",
    "    \n",
    "    print('Number of Users:', n_users) \n",
    "    print('Number of Movies:', n_movies)\n",
    "    return users_list, movies_list, n_users, n_movies\n",
    "\n",
    "def get_sample(df, users_list, movies_list, sample_user_pct, sample_movie_pct):\n",
    "    n_users_sample = int(sample_user_pct * len(users_list))\n",
    "    n_movies_sample = int(sample_movie_pct * len(movies_list))\n",
    "\n",
    "    np.random.shuffle(users_list)\n",
    "    np.random.shuffle(movies_list)\n",
    "\n",
    "    sample_users = users_list[:n_users_sample]\n",
    "    sample_movies = movies_list[:n_movies_sample]\n",
    "\n",
    "    df = df[df.userID.isin(sample_users)]\n",
    "    df = df[df.movieID.isin(sample_movies)]\n",
    "    df = df.reset_index(drop=True)\n",
    "    return df"
   ]
  },
  {
   "cell_type": "code",
   "execution_count": 6,
   "metadata": {},
   "outputs": [
    {
     "name": "stdout",
     "output_type": "stream",
     "text": [
      "Number of Users: 6040\n",
      "Number of Movies: 3694\n",
      "\n",
      "Sample: \n",
      "Number of Users: 596\n",
      "Number of Movies: 334\n"
     ]
    }
   ],
   "source": [
    "users_list, movies_list, n_users, n_movies = get_users_movies(ratings_df)\n",
    "\n",
    "sample_user_pct = 0.1\n",
    "sample_movie_pct = 0.1\n",
    "ratings_df = get_sample(ratings_df, users_list, movies_list, sample_user_pct, sample_movie_pct)\n",
    "print('\\nSample: ')\n",
    "users_list, movies_list, n_users, n_movies = get_users_movies(ratings_df)"
   ]
  },
  {
   "cell_type": "code",
   "execution_count": 7,
   "metadata": {},
   "outputs": [],
   "source": [
    "# relabelling userIDs\n",
    "userID2idx = dict(zip(users_list, range(n_users)))\n",
    "idx2userID = {v:k for k, v in userID2idx.items()}\n",
    "ratings_df['userID'].replace(userID2idx, inplace=True)\n",
    "\n",
    "# relabelling movieIDs\n",
    "movieID2idx = dict(zip(movies_list, range(n_movies)))\n",
    "idx2movieID = {v:k for k, v in movieID2idx.items()}\n",
    "movieID2name = dict(zip(movies_df['movieID'].values, movies_df['title'].values))\n",
    "ratings_df['movieID'].replace(movieID2idx, inplace=True)"
   ]
  },
  {
   "cell_type": "code",
   "execution_count": 8,
   "metadata": {},
   "outputs": [],
   "source": [
    "def get_ratings_mat(ratings_df):\n",
    "    # mapping users to their rated movies\n",
    "    interaction_dict = dict(ratings_df.groupby('userID')['movieID'].apply(lambda x: np.array(x)))\n",
    "    # mapping users to their ratings\n",
    "    ratings_dict = dict(ratings_df.groupby('userID')['rating'].apply(lambda x: np.array(x)))\n",
    "    ratings_mat = np.zeros((n_users, n_movies), dtype='int')\n",
    "    for userID, movieIDs in interaction_dict.items():        \n",
    "        # highlight rating\n",
    "        ratings_mat[userID-1, movieIDs] = ratings_dict[userID]\n",
    "    return ratings_mat"
   ]
  },
  {
   "cell_type": "code",
   "execution_count": 9,
   "metadata": {},
   "outputs": [],
   "source": [
    "R = get_ratings_mat(ratings_df)\n",
    "assert R.shape == (n_users, n_movies)\n",
    "\n",
    "n_latent = 50\n",
    "P_init = np.random.normal(size=(n_users, n_latent))\n",
    "Q_init = np.random.normal(size=(n_latent, n_movies))"
   ]
  },
  {
   "cell_type": "code",
   "execution_count": 10,
   "metadata": {},
   "outputs": [
    {
     "name": "stdout",
     "output_type": "stream",
     "text": [
      "Iteration 500: 33831.445\n",
      "Iteration 1000: 33336.651\n",
      "Iteration 1500: 33250.125\n",
      "Iteration 2000: 33229.221\n",
      "Iteration 2500: 33223.703\n",
      "Iteration 3000: 33221.168\n",
      "Iteration 3500: 33219.657\n",
      "Iteration 4000: 33218.719\n",
      "Iteration 4500: 33218.131\n",
      "Iteration 5000: 33217.757\n",
      "Terminated at 5000 iterations..\n"
     ]
    }
   ],
   "source": [
    "def loss_fn(R, est_R):\n",
    "    return np.trace((R-est_R).T @ (R-est_R))\n",
    "\n",
    "def gradient(R, P, Q, reg_coef):\n",
    "    dP = -2 * Q @ R.T + 2 * Q @ Q.T @ P.T + 2 * reg_coef * P.T\n",
    "    dQ = -2 * R.T @ P + 2 * Q.T @ P.T @ P + 2 * reg_coef * Q.T\n",
    "    return dP.T, dQ.T\n",
    "\n",
    "def gradient_descent(R, P_init, Q_init, alpha, eps, reg_coef, max_iters):\n",
    "    P = P_init\n",
    "    Q = Q_init\n",
    "    dP = P_init\n",
    "    dQ = Q_init\n",
    "    \n",
    "    n_iters = 0\n",
    "    costs = []\n",
    "    while np.linalg.norm(dP) > eps and np.linalg.norm(dQ) > eps:\n",
    "        dP, dQ = gradient(R, P, Q, reg_coef)\n",
    "        P = P - alpha * dP\n",
    "        Q = Q - alpha * dQ\n",
    "\n",
    "        est_R = P @ Q\n",
    "        cost = loss_fn(R, est_R)\n",
    "        costs.append(cost)\n",
    "        n_iters +=1\n",
    "\n",
    "        if n_iters % 500==0:\n",
    "            print(f'Iteration {n_iters}: {cost.round(3)}')\n",
    "        if n_iters > max_iters:\n",
    "            print(f'Terminated at {max_iters} iterations..')\n",
    "            break\n",
    "    return P, Q, costs\n",
    "\n",
    "alpha = 1E-3\n",
    "eps = 1E-2\n",
    "reg_coef = 0.2\n",
    "max_iters = 5000\n",
    "P, Q, costs = gradient_descent(R, P_init, Q_init, alpha, eps, reg_coef, max_iters)"
   ]
  },
  {
   "cell_type": "code",
   "execution_count": 11,
   "metadata": {},
   "outputs": [
    {
     "data": {
      "image/png": "[encoded data removed]",
      "text/plain": [
       "<Figure size 432x288 with 1 Axes>"
      ]
     },
     "metadata": {
      "needs_background": "light"
     },
     "output_type": "display_data"
    }
   ],
   "source": [
    "plt.plot(costs)\n",
    "plt.show()"
   ]
  },
  {
   "cell_type": "code",
   "execution_count": 12,
   "metadata": {},
   "outputs": [],
   "source": [
    "new_users_list = list(set(ratings_val['userID'].values) - set(users_list))\n",
    "ratings_val = ratings_val[~ratings_val.userID.isin(new_users_list)]\n",
    "\n",
    "new_movies_list = list(set(ratings_val['movieID'].values) - set(movies_list))\n",
    "ratings_val = ratings_val[~ratings_val.movieID.isin(new_movies_list)].reset_index(drop=True)\n",
    "\n",
    "ratings_val['userID'].replace(userID2idx, inplace=True)\n",
    "ratings_val['movieID'].replace(movieID2idx, inplace=True)"
   ]
  },
  {
   "cell_type": "code",
   "execution_count": 13,
   "metadata": {},
   "outputs": [],
   "source": [
    "def get_predictions(P, Q, ratings_val):\n",
    "    preds = list(map(lambda x, y: P[x] @ Q[:, y], ratings_val.userID, ratings_val.movieID))\n",
    "    return preds\n",
    "\n",
    "def scale_predictions(preds, min_rating, max_rating):\n",
    "    max_pred = max(preds)\n",
    "    min_pred = min(preds)\n",
    "    a = (max_rating - min_rating) / (max_pred - min_pred)\n",
    "    b = (min_rating * max_pred - max_rating * min_pred) / (max_pred - min_pred)\n",
    "    scaled_preds = list(map(lambda x: a*x + b, preds))\n",
    "    return scaled_preds"
   ]
  },
  {
   "cell_type": "markdown",
   "metadata": {},
   "source": [
    "We scale ratings linearly such that they lie in [1,5]."
   ]
  },
  {
   "cell_type": "code",
   "execution_count": 14,
   "metadata": {},
   "outputs": [],
   "source": [
    "min_rating = 1\n",
    "max_rating = 5\n",
    "\n",
    "# true ratings\n",
    "y_true = ratings_val.rating.values\n",
    "# predicted ratings\n",
    "preds = get_predictions(P, Q, ratings_val) \n",
    "# scaling ratings\n",
    "y_pred = scale_predictions(preds, min_rating, max_rating)"
   ]
  },
  {
   "cell_type": "code",
   "execution_count": 15,
   "metadata": {},
   "outputs": [
    {
     "data": {
      "text/plain": [
       "3.9502204865427633"
      ]
     },
     "execution_count": 15,
     "metadata": {},
     "output_type": "execute_result"
    }
   ],
   "source": [
    "mean_squared_error(y_true, y_pred)"
   ]
  },
  {
   "cell_type": "code",
   "execution_count": null,
   "metadata": {},
   "outputs": [],
   "source": []
  }
 ],
 "metadata": {
  "interpreter": {
   "hash": "951daa5e1959839fcb325fff331f52e72634f7a1be998f6081ed7f433b63f1b3"
  },
  "kernelspec": {
   "display_name": "Python 3.8.11 64-bit ('base': conda)",
   "language": "python",
   "name": "python3"
  },
  "language_info": {
   "codemirror_mode": {
    "name": "ipython",
    "version": 3
   },
   "file_extension": ".py",
   "mimetype": "text/x-python",
   "name": "python",
   "nbconvert_exporter": "python",
   "pygments_lexer": "ipython3",
   "version": "3.8.11"
  },
  "orig_nbformat": 4
 },
 "nbformat": 4,
 "nbformat_minor": 2
}
