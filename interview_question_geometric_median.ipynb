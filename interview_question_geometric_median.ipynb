{
 "cells": [
  {
   "cell_type": "markdown",
   "metadata": {},
   "source": [
    "### Question\n",
    "\n",
    "**Find the friend from which the sum of distances to other friends is the least.**"
   ]
  },
  {
   "cell_type": "code",
   "execution_count": 1,
   "metadata": {},
   "outputs": [],
   "source": [
    "import numpy as np\n",
    "from scipy.optimize import minimize\n",
    "import matplotlib.pyplot as plt"
   ]
  },
  {
   "cell_type": "code",
   "execution_count": 2,
   "metadata": {},
   "outputs": [
    {
     "data": {
      "text/plain": [
       "[{'name': 'Bob', 'location': [4, 5, 6]},\n",
       " {'name': 'David', 'location': [10, 12, 20]},\n",
       " {'name': 'Mary', 'location': [45, 60, 61]},\n",
       " {'name': 'Skyler', 'location': [89, 17, 51]}]"
      ]
     },
     "execution_count": 2,
     "metadata": {},
     "output_type": "execute_result"
    }
   ],
   "source": [
    "names = ['Bob','David','Mary','Skyler']\n",
    "locations = np.array([[4, 5, 6], [10, 12, 20], [45, 60, 61], [89, 17, 51]])\n",
    "\n",
    "friends = list(map(lambda x, y: {'name': x, 'location': y.tolist()}, names, locations))\n",
    "friends"
   ]
  },
  {
   "cell_type": "markdown",
   "metadata": {},
   "source": [
    "#### Approach 1: Brute-Force solution\n",
    "Quadratic Time Complexity"
   ]
  },
  {
   "cell_type": "code",
   "execution_count": 3,
   "metadata": {},
   "outputs": [
    {
     "data": {
      "text/plain": [
       "('David', '173.9551482365431')"
      ]
     },
     "execution_count": 3,
     "metadata": {},
     "output_type": "execute_result"
    }
   ],
   "source": [
    "def calculate_distance(loc1, loc2):\n",
    "    (x1,y1,z1)=loc1\n",
    "    (x2,y2,z2)=loc2\n",
    "    return ((x1-x2)**2+(y1-y2)**2+(z1-z2)**2)**(1/2)\n",
    "\n",
    "def calculate_total_distance(friend, friends):\n",
    "    return sum(map(lambda x: calculate_distance(friend['location'], x['location']), friends))\n",
    "    \n",
    "def find_all_distance(friends):\n",
    "    return list(map(lambda x: calculate_total_distance(x,friends), friends))\n",
    "\n",
    "def find_host(friends):\n",
    "    names = list(map(lambda x: x['name'], friends))\n",
    "    name_distance = np.vstack((names, find_all_distance(friends))).transpose()\n",
    "    \n",
    "    result = name_distance[np.argsort(name_distance[:,1].astype('float'))][0]\n",
    "    return result[0], result[1]\n",
    "    \n",
    "result = find_host(friends)\n",
    "result"
   ]
  },
  {
   "cell_type": "markdown",
   "metadata": {},
   "source": [
    "#### Approach 2: Geometric Mean\n",
    "\n",
    "Sum of distances and sum of squares of distances are both monotonically increasing functions. \n",
    "\n",
    "If we were to minimize the sum of squares of distances instead of sum of distances, the optimum solution will be the **centroid** (can be theoretically found).\n",
    "\n",
    "And so, an imperfect solution would be to find the closest point to the centroid since we require our point to be one of the friends' house."
   ]
  },
  {
   "cell_type": "code",
   "execution_count": 4,
   "metadata": {},
   "outputs": [
    {
     "data": {
      "text/plain": [
       "('David', 173.9551482365431)"
      ]
     },
     "execution_count": 4,
     "metadata": {},
     "output_type": "execute_result"
    }
   ],
   "source": [
    "def find_total_distance(host_name, names, locations):\n",
    "    host_idx = names.index(host_name)\n",
    "    final_dist = np.sum(np.sqrt(np.sum((locations - locations[host_idx])**2, axis=1)))\n",
    "    return final_dist\n",
    "\n",
    "locations = np.array(list(map(lambda x: x['location'], friends)))\n",
    "\n",
    "(p,q,r) = np.mean(locations[:,0]), np.mean(locations[:,1]), np.mean(locations[:,2])\n",
    "\n",
    "def get_distance(v1,v2):\n",
    "    return sum((v1-v2)**2)\n",
    "\n",
    "names = list(map(lambda x: x['name'], friends))\n",
    "\n",
    "dist_from_center = np.array(list(map(lambda x: get_distance(x, np.array([p,q,r])), locations)))\n",
    "dist_from_center = np.vstack((names, dist_from_center)).transpose()\n",
    "\n",
    "result = dist_from_center[np.argsort(dist_from_center[:,1].astype('float'))][0]\n",
    "host_name = result[0]\n",
    "final_dist = find_total_distance(host_name, names, locations)\n",
    "host_name, final_dist"
   ]
  },
  {
   "cell_type": "markdown",
   "metadata": {},
   "source": [
    "#### Approach 3: Geometric Median\n",
    "\n",
    "Consider a case when all the points are on a line. The least sum of distances (absolute/manhattan distance in this case) will be for the point that is **median** of numbers. This can be mathematically proved."
   ]
  },
  {
   "cell_type": "code",
   "execution_count": 5,
   "metadata": {},
   "outputs": [
    {
     "data": {
      "text/plain": [
       "6"
      ]
     },
     "execution_count": 5,
     "metadata": {},
     "output_type": "execute_result"
    }
   ],
   "source": [
    "data = [2,5,6,3,7,8,93,35]\n",
    "\n",
    "def calculate_abs_distance(i,j):\n",
    "    return abs(i-j)\n",
    "   \n",
    "def total_abs_distance(datapoint, data): \n",
    "    return sum(map(lambda x: calculate_abs_distance(datapoint, x), data))\n",
    "    \n",
    "distances = list(map(lambda x: total_abs_distance(x,data), data))\n",
    "\n",
    "data_dist = (np.vstack((data,distances)).transpose())\n",
    "\n",
    "result = data_dist[np.argsort(data_dist[:,1])][0]\n",
    "result[0]"
   ]
  },
  {
   "cell_type": "markdown",
   "metadata": {},
   "source": [
    "However, since our points are in N-dimensional space, we need to calculate something commonly called as **geometric median.**"
   ]
  },
  {
   "cell_type": "code",
   "execution_count": 6,
   "metadata": {},
   "outputs": [
    {
     "data": {
      "text/plain": [
       "      fun: 173.83661491420048\n",
       " hess_inv: array([[25.11424771,  7.94254557,  5.75802883],\n",
       "       [ 7.94254557,  4.91473555,  2.25753466],\n",
       "       [ 5.75802883,  2.25753466,  3.92417124]])\n",
       "      jac: array([ 1.90734863e-06,  0.00000000e+00, -3.81469727e-06])\n",
       "  message: 'Optimization terminated successfully.'\n",
       "     nfev: 72\n",
       "      nit: 15\n",
       "     njev: 18\n",
       "   status: 0\n",
       "  success: True\n",
       "        x: array([12.291911  , 12.73431524, 20.39395965])"
      ]
     },
     "execution_count": 6,
     "metadata": {},
     "output_type": "execute_result"
    }
   ],
   "source": [
    "def cost(coords, x):\n",
    "    return np.sum(np.sqrt(np.sum((coords-x)**2, axis=1)))\n",
    "\n",
    "coords = locations\n",
    "obj_func = lambda x: cost(coords, x)\n",
    "x0 = np.mean(coords, axis=0)\n",
    "sol = minimize(obj_func, x0)\n",
    "sol"
   ]
  },
  {
   "cell_type": "code",
   "execution_count": 7,
   "metadata": {},
   "outputs": [
    {
     "data": {
      "text/plain": [
       "('David', 173.9551482365431)"
      ]
     },
     "execution_count": 7,
     "metadata": {},
     "output_type": "execute_result"
    }
   ],
   "source": [
    "def closest_host(coords, x):\n",
    "    dists = np.sqrt(np.sum((coords - x)**2, axis=1))\n",
    "    host_idx = np.argsort(dists)[0]\n",
    "    host_name = names[host_idx]\n",
    "    return host_name\n",
    "    \n",
    "x = sol.x\n",
    "host_name = closest_host(coords, x)\n",
    "final_dist = find_total_distance(host_name, names, locations)\n",
    "host_name, final_dist"
   ]
  },
  {
   "cell_type": "code",
   "execution_count": 8,
   "metadata": {},
   "outputs": [
    {
     "name": "stdout",
     "output_type": "stream",
     "text": [
      "Iteration: 2000 | Cost: 178.135\n",
      "Iteration: 4000 | Cost: 176.543\n",
      "Iteration: 6000 | Cost: 175.487\n",
      "Iteration: 8000 | Cost: 174.776\n",
      "Iteration: 10000 | Cost: 174.317\n",
      "Iteration: 12000 | Cost: 174.049\n",
      "Iteration: 14000 | Cost: 173.917\n",
      "Iteration: 16000 | Cost: 173.863\n",
      "Iteration: 18000 | Cost: 173.844\n",
      "Iteration: 20000 | Cost: 173.839\n",
      "Iteration: 22000 | Cost: 173.837\n",
      "Iteration: 23210 | Cost: 173.837\n",
      "\n",
      " Geometric Median: [12.40198385 12.77349318 20.42296289]\n"
     ]
    }
   ],
   "source": [
    "def loss_fn(coords, x):\n",
    "    return np.sum(np.sqrt(np.sum((coords-x)**2, axis=1)))\n",
    "\n",
    "def gradient(coords, x):\n",
    "    dx = 0\n",
    "    dy = 0\n",
    "    dz = 0\n",
    "    for pt in coords:\n",
    "        dist = np.sqrt((pt[0] - x[0])**2 + (pt[1] - x[1])**2 + (pt[2]-x[2])**2)\n",
    "        dx += -1 * (pt[0] - x[0]) / dist\n",
    "        dy += -1 * (pt[1] - x[1]) / dist\n",
    "        dz += -1 * (pt[2] - x[2]) / dist\n",
    "    return dx, dy, dz\n",
    "\n",
    "def gradient_descent(coords, x_init, alpha, eps):\n",
    "    x = x_init\n",
    "    dx = 1\n",
    "    dy = 1\n",
    "    dz = 1\n",
    "    \n",
    "    costs = []\n",
    "    n_iters = 0\n",
    "    while np.linalg.norm(dx) > eps and np.linalg.norm(dy) > eps and np.linalg.norm(dz) > eps:\n",
    "        dx, dy, dz = gradient(coords, x)\n",
    "        x[0] = x[0] - alpha * dx\n",
    "        x[1] = x[1] - alpha * dy\n",
    "        x[2] = x[2] - alpha * dz\n",
    "\n",
    "        cost = loss_fn(coords, x)\n",
    "        costs.append(cost)\n",
    "        n_iters += 1\n",
    "\n",
    "        if n_iters%2000==0:\n",
    "            print(f'Iteration: {n_iters} | Cost: {cost.round(3)}')\n",
    "    print(f'Iteration: {n_iters} | Cost: {cost.round(3)}')\n",
    "    return x, costs\n",
    "\n",
    "x_init = np.mean(coords, axis=0)\n",
    "alpha = 1E-2\n",
    "eps = 1E-3\n",
    "x, costs = gradient_descent(coords, x_init, alpha, eps)\n",
    "print('\\n', 'Geometric Median:', x)"
   ]
  },
  {
   "cell_type": "code",
   "execution_count": 9,
   "metadata": {},
   "outputs": [
    {
     "data": {
      "image/png": "[encoded data removed]",
      "text/plain": [
       "<Figure size 432x288 with 1 Axes>"
      ]
     },
     "metadata": {
      "needs_background": "light"
     },
     "output_type": "display_data"
    }
   ],
   "source": [
    "plt.plot(costs)\n",
    "plt.title('COSTS')\n",
    "plt.show()"
   ]
  },
  {
   "cell_type": "code",
   "execution_count": 10,
   "metadata": {},
   "outputs": [
    {
     "data": {
      "text/plain": [
       "('David', 173.9551482365431)"
      ]
     },
     "execution_count": 10,
     "metadata": {},
     "output_type": "execute_result"
    }
   ],
   "source": [
    "host_name = closest_host(coords, x)\n",
    "final_dist = find_total_distance(host_name, names, locations)\n",
    "host_name, final_dist"
   ]
  },
  {
   "cell_type": "code",
   "execution_count": null,
   "metadata": {},
   "outputs": [],
   "source": []
  }
 ],
 "metadata": {
  "kernelspec": {
   "display_name": "Python 3",
   "language": "python",
   "name": "python3"
  },
  "language_info": {
   "codemirror_mode": {
    "name": "ipython",
    "version": 3
   },
   "file_extension": ".py",
   "mimetype": "text/x-python",
   "name": "python",
   "nbconvert_exporter": "python",
   "pygments_lexer": "ipython3",
   "version": "3.8.11"
  }
 },
 "nbformat": 4,
 "nbformat_minor": 4
}
