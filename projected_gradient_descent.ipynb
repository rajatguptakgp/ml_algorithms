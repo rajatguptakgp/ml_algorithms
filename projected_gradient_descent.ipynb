{
 "cells": [
  {
   "cell_type": "code",
   "execution_count": 1,
   "metadata": {},
   "outputs": [],
   "source": [
    "import numpy as np\n",
    "import pandas as pd\n",
    "import matplotlib.pyplot as plt\n",
    "from sklearn.datasets import *\n",
    "from sklearn.preprocessing import StandardScaler"
   ]
  },
  {
   "cell_type": "code",
   "execution_count": 2,
   "metadata": {},
   "outputs": [],
   "source": [
    "def plotting(W, costs):\n",
    "    plt.figure(figsize=(20,5))\n",
    "    plt.subplot(141)\n",
    "    plt.title('X')\n",
    "    plt.plot(W[:,0])\n",
    "\n",
    "    plt.subplot(142)\n",
    "    plt.title('Y')\n",
    "    plt.plot(W[:,1])\n",
    "\n",
    "    plt.subplot(143)\n",
    "    plt.title('Z')\n",
    "    plt.plot(W[:,2])    \n",
    "\n",
    "    plt.subplot(144)\n",
    "    plt.title('costs')\n",
    "    plt.plot(costs)\n",
    "    plt.show()"
   ]
  },
  {
   "cell_type": "markdown",
   "metadata": {},
   "source": [
    "### Gradient Descent\n",
    "\n",
    "We are solving the following un-constrained problem:\n",
    "<center>\n",
    "\n",
    "minimize $x^{2}+y^{2}+z^{2}$\n",
    "\n",
    "Solution: $(0,0,0)$\n",
    "\n",
    "</center>\n",
    "\n"
   ]
  },
  {
   "cell_type": "code",
   "execution_count": 3,
   "metadata": {},
   "outputs": [
    {
     "name": "stdout",
     "output_type": "stream",
     "text": [
      "Converged in 909 iterations..\n",
      "Final Solution: [0.00021548740183906885, 0.0004309748036781377, 0.0008619496073562754]\n",
      "Final Cost: 9.75131227378399e-07\n"
     ]
    }
   ],
   "source": [
    "def loss_fn(w):\n",
    "    return w.T @ w\n",
    "\n",
    "def gradient(w):\n",
    "    return w \n",
    "\n",
    "def gradient_descent(w_init, alpha, eps):\n",
    "    w = w_init\n",
    "    dw = np.random.random(w_init.shape)\n",
    "    W = []\n",
    "    costs = []\n",
    "    n_iters = 0\n",
    "    \n",
    "    while(np.linalg.norm(dw)>eps):\n",
    "        dw = gradient(w)\n",
    "        w = w - alpha * dw\n",
    "        cost = loss_fn(w)\n",
    "\n",
    "        W.append(w)\n",
    "        costs.append(cost)\n",
    "        n_iters+=1\n",
    "    print(f'Converged in {n_iters} iterations..')\n",
    "    return np.array(W), costs\n",
    "\n",
    "w_init = np.array([2,4,8])\n",
    "alpha = 1E-2\n",
    "eps = 1E-3\n",
    "W, costs = gradient_descent(w_init, alpha, eps)\n",
    "print('Final Solution:', W[-1].tolist())\n",
    "print('Final Cost:', costs[-1])"
   ]
  },
  {
   "cell_type": "code",
   "execution_count": 4,
   "metadata": {},
   "outputs": [
    {
     "data": {
      "image/png": "[encoded data removed]",
      "text/plain": [
       "<Figure size 1440x360 with 4 Axes>"
      ]
     },
     "metadata": {
      "needs_background": "light"
     },
     "output_type": "display_data"
    }
   ],
   "source": [
    "plotting(W, costs)"
   ]
  },
  {
   "cell_type": "markdown",
   "metadata": {},
   "source": [
    "### Projected Gradient Descent (Gradient Descent with constraints)\n",
    "\n",
    "The idea behind Projected Gradient Descent is that you constrain the search space by projecting the solution onto your constrained space. Your constrained space can be a sphere, plane etc. This results in obtaining solutions that satisfy our constraints.\n",
    "\n",
    "We are solving the following constrained problem:\n",
    "<center>\n",
    "\n",
    "minimize $x^{2}+y^{2}+z^{2}$\n",
    "\n",
    "given $x+y+z=1$\n",
    "\n",
    "Solution: $(\\frac{1}{3},\\frac{1}{3},\\frac{1}{3})$\n",
    "</center>\n",
    "The above solution can be found using Lagrange multiplers.\n",
    "\n",
    "The above problem using PGD is solved with following steps:\n",
    "1. Changing the origin such that $x'+y'+z'=0$. We are solving for $(x', y', z')$ instead of $(x,y,z)$ now.\n",
    "2. Projecting solution vector obtained by gradient descent onto the plane $x'+y'+z'=0$. Projection of a vector on plane is obtained by subtracting projection of vector on normal from vector. \n",
    "3. Changing origin back to original space to get optimized $(x,y,z)$."
   ]
  },
  {
   "cell_type": "code",
   "execution_count": 5,
   "metadata": {},
   "outputs": [
    {
     "name": "stdout",
     "output_type": "stream",
     "text": [
      "Terminated in 5000 iterations..\n",
      "Final Solution: [0.3333333333333333, 0.3333333333333333, 0.3333333333333333]\n",
      "Final Cost: 0.3333333333333333\n"
     ]
    }
   ],
   "source": [
    "def loss_fn(w, gamma):\n",
    "    return (w + gamma).T @ (w + gamma)\n",
    "\n",
    "def gradient(w, gamma):\n",
    "    return w + gamma\n",
    "\n",
    "def projection(w, normal_vec):\n",
    "    projection = w - (w @ normal_vec) * normal_vec / (normal_vec.T @ normal_vec)\n",
    "    return projection\n",
    "\n",
    "def projected_gradient_descent(w_init, normal_vec, alpha, gamma, eps, max_iters):\n",
    "    w = w_init\n",
    "    dw = np.random.random(w_init.shape)\n",
    "    W = []\n",
    "    costs = []\n",
    "    n_iters = 0\n",
    "    terminated_flag = 0\n",
    "\n",
    "    while (np.linalg.norm(dw)>eps):\n",
    "        dw = gradient(w, gamma)\n",
    "        w = w - alpha * dw\n",
    "        w = projection(w, normal_vec)\n",
    "        cost = loss_fn(w, gamma)\n",
    "\n",
    "        W.append(w)\n",
    "        costs.append(cost)\n",
    "        n_iters+=1\n",
    "        \n",
    "        if n_iters>=max_iters:\n",
    "            terminated_flag = 1\n",
    "            print(f'Terminated in {n_iters} iterations..')\n",
    "            break\n",
    "    if terminated_flag!=1:\n",
    "        print(f'Converged in {n_iters} iterations..')        \n",
    "    return np.array(W), costs\n",
    "\n",
    "w_init = np.array([2,4,8])\n",
    "normal_vec = np.array([1,1,1])\n",
    "alpha = 1E-2\n",
    "gamma = 1/np.shape(w_init)[0]\n",
    "eps = 1E-3\n",
    "max_iters = 5000\n",
    "W, costs = projected_gradient_descent(w_init, normal_vec, alpha, gamma, eps, max_iters)\n",
    "print('Final Solution:', (W[-1] + gamma).tolist())\n",
    "print('Final Cost:', costs[-1])"
   ]
  },
  {
   "cell_type": "code",
   "execution_count": 6,
   "metadata": {},
   "outputs": [
    {
     "data": {
      "image/png": "[encoded data removed]",
      "text/plain": [
       "<Figure size 1440x360 with 4 Axes>"
      ]
     },
     "metadata": {
      "needs_background": "light"
     },
     "output_type": "display_data"
    }
   ],
   "source": [
    "plotting(W, costs)"
   ]
  },
  {
   "cell_type": "markdown",
   "metadata": {},
   "source": [
    "### Regularization v/s Constrained Optimization\n",
    "\n",
    "Regularization can be thought of as constraining the search space by imposing some sort of penalty function. It's similar to writing an equivalent Lagrangian form of optimization. Take the case of Ridge Regression, we are interested in undermining the coefficients to prevent model overfitting. Here, we are constraining the coefficients to lie on a hypersphere centered at origin with radius that is inversely proportional to regularization coefficient.\n",
    "\n",
    "Regularization can also help speed up convergence since it limits the search space. However, while regularizing, you are solving a different optimization problem altogether and you are expected to get different results. \n",
    "\n",
    "If we compare regularization with projected gradient descent, these can be thought of as completely different approaches although having similar ideas. We will try solving similar problem using regularization:\n",
    "\n",
    "$$\n",
    "\\text { minimize } \n",
    "w^{\\top}w\n",
    "\\\\\n",
    "\\text { such that}\n",
    "\\sum_{i=1}^{n}\\left|w_{i}\\right|=1\n",
    "$$\n",
    "\n",
    "Note that the constant term of constraint will not be part of gradient equations, which is why we transform the origin as in previous case. \n",
    "\n",
    "The regularized loss function is:\n",
    "$$\n",
    "J=\\left(w^{\\prime}+ \\frac{1}{3}\\right)^{\\top}\\left(w^{\\prime}+\\frac{1}{3}\\right)+\\lambda\\left(\\sum_{i=1}^{n}\\left|w^{\\prime}_{i}\\right|\\right)\n",
    "$$\n",
    "\n",
    "$$\n",
    "\\frac{\\partial J}{\\partial w^{\\prime}}=2\\left(w^{\\prime}+\\frac{1}{3}\\right)+\\lambda \\operatorname{sgn}(w^{\\prime})\n",
    "$$\n",
    "\n",
    "\n",
    "Note that the **cost is different from our regularized loss function**. Cost is sum of squares of weights while the loss function also contains the regularized term."
   ]
  },
  {
   "cell_type": "code",
   "execution_count": 7,
   "metadata": {},
   "outputs": [],
   "source": [
    "def loss_fn(w, gamma, reg_coef):\n",
    "    return (w + gamma).T @ (w + gamma) + reg_coef * sum(abs(w))\n",
    "\n",
    "# derivative of loss function\n",
    "def gradient(w, gamma, reg_coef):\n",
    "    return 2 * (w + gamma) + reg_coef * np.sign(w)\n",
    "\n",
    "def projected_gradient_descent(w_init, alpha, gamma, reg_coef, eps, max_iters, verbose=False):\n",
    "    w = w_init\n",
    "    dw = np.random.random(w_init.shape)\n",
    "    W = []\n",
    "    costs = []\n",
    "    n_iters = 0\n",
    "    terminated_flag = 0\n",
    "\n",
    "    while (np.linalg.norm(dw)>eps):\n",
    "        dw = gradient(w, gamma, reg_coef)\n",
    "        w = w - alpha * dw\n",
    "        # cost is different from loss function\n",
    "        # our cost is wTw\n",
    "        cost = (w + gamma).T @ (w + gamma)\n",
    "\n",
    "        W.append(w)\n",
    "        costs.append(cost)\n",
    "        n_iters+=1\n",
    "        \n",
    "        if n_iters>=max_iters:\n",
    "            terminated_flag = 1\n",
    "            break\n",
    "    if verbose:\n",
    "        if terminated_flag!=1:\n",
    "            print(f'Converged in {n_iters} iterations..')        \n",
    "        else:\n",
    "            print(f'Terminated in {n_iters} iterations..')\n",
    "    return np.array(W), costs, n_iters"
   ]
  },
  {
   "cell_type": "code",
   "execution_count": 8,
   "metadata": {},
   "outputs": [
    {
     "data": {
      "image/png": "[encoded data removed]",
      "text/plain": [
       "<Figure size 432x288 with 1 Axes>"
      ]
     },
     "metadata": {
      "needs_background": "light"
     },
     "output_type": "display_data"
    }
   ],
   "source": [
    "w_init = np.array([2,4,8])\n",
    "alpha = 1E-2\n",
    "gamma = 1 / np.shape(w_init)[0]\n",
    "eps = 1E-3\n",
    "max_iters = 500\n",
    "reg_coefs = np.arange(0,10,0.1)\n",
    "final_costs = []\n",
    "\n",
    "for reg_coef in reg_coefs:\n",
    "    W, costs, n_iters = projected_gradient_descent(w_init, alpha, gamma, reg_coef, eps, max_iters, verbose=False)\n",
    "    final_costs.append(costs[-1])\n",
    "\n",
    "plt.plot(reg_coefs, final_costs)\n",
    "plt.xlabel('reg_coef')\n",
    "plt.ylabel('costs')\n",
    "plt.show()"
   ]
  },
  {
   "cell_type": "markdown",
   "metadata": {},
   "source": [
    "This shows that as you increase the regularizing coefficient, you are bringing the plane $|x'|+|y'|+|z'|$ closer to $(0,0,0)$ or $(x,y,z)$ closer to $(\\frac{1}{3},\\frac{1}{3},\\frac{1}{3})$. You are imposing higher penalty and constraining the search space strongly."
   ]
  },
  {
   "cell_type": "code",
   "execution_count": 9,
   "metadata": {},
   "outputs": [
    {
     "name": "stdout",
     "output_type": "stream",
     "text": [
      "Terminated in 50000 iterations..\n",
      "Final Solution: [0.3322093753655265, 0.329506724884837, 0.3229044165949742]\n",
      "Final Cost: 0.32320501308162564\n"
     ]
    }
   ],
   "source": [
    "reg_coef = 1\n",
    "W, costs, n_iters = projected_gradient_descent(w_init, alpha, gamma, reg_coef, eps, 50000, verbose=True)\n",
    "print('Final Solution:', (W[-1] + gamma).tolist())\n",
    "print('Final Cost:', costs[-1])"
   ]
  },
  {
   "cell_type": "markdown",
   "metadata": {},
   "source": [
    "### Constrained Least Squares Regression \n",
    "\n",
    "We will build a regression model on California housing dataset while imposing certain constraints. The constraints are:\n",
    "1. As income of group increase, target value increases\n",
    "2. As age of house increases, target value decreases\n",
    "\n",
    "We will impose these constraints by projecting the vector onto constraint space."
   ]
  },
  {
   "cell_type": "code",
   "execution_count": 10,
   "metadata": {},
   "outputs": [
    {
     "data": {
      "text/html": [
       "<div>\n",
       "<style scoped>\n",
       "    .dataframe tbody tr th:only-of-type {\n",
       "        vertical-align: middle;\n",
       "    }\n",
       "\n",
       "    .dataframe tbody tr th {\n",
       "        vertical-align: top;\n",
       "    }\n",
       "\n",
       "    .dataframe thead th {\n",
       "        text-align: right;\n",
       "    }\n",
       "</style>\n",
       "<table border=\"1\" class=\"dataframe\">\n",
       "  <thead>\n",
       "    <tr style=\"text-align: right;\">\n",
       "      <th></th>\n",
       "      <th>MedInc</th>\n",
       "      <th>HouseAge</th>\n",
       "      <th>AveRooms</th>\n",
       "      <th>AveBedrms</th>\n",
       "      <th>Population</th>\n",
       "      <th>AveOccup</th>\n",
       "      <th>Latitude</th>\n",
       "      <th>Longitude</th>\n",
       "      <th>MedHouseVal</th>\n",
       "    </tr>\n",
       "  </thead>\n",
       "  <tbody>\n",
       "    <tr>\n",
       "      <th>0</th>\n",
       "      <td>8</td>\n",
       "      <td>41</td>\n",
       "      <td>6</td>\n",
       "      <td>1</td>\n",
       "      <td>322</td>\n",
       "      <td>2</td>\n",
       "      <td>37</td>\n",
       "      <td>-122</td>\n",
       "      <td>4</td>\n",
       "    </tr>\n",
       "    <tr>\n",
       "      <th>1</th>\n",
       "      <td>8</td>\n",
       "      <td>21</td>\n",
       "      <td>6</td>\n",
       "      <td>0</td>\n",
       "      <td>2401</td>\n",
       "      <td>2</td>\n",
       "      <td>37</td>\n",
       "      <td>-122</td>\n",
       "      <td>3</td>\n",
       "    </tr>\n",
       "    <tr>\n",
       "      <th>2</th>\n",
       "      <td>7</td>\n",
       "      <td>52</td>\n",
       "      <td>8</td>\n",
       "      <td>1</td>\n",
       "      <td>496</td>\n",
       "      <td>2</td>\n",
       "      <td>37</td>\n",
       "      <td>-122</td>\n",
       "      <td>3</td>\n",
       "    </tr>\n",
       "    <tr>\n",
       "      <th>3</th>\n",
       "      <td>5</td>\n",
       "      <td>52</td>\n",
       "      <td>5</td>\n",
       "      <td>1</td>\n",
       "      <td>558</td>\n",
       "      <td>2</td>\n",
       "      <td>37</td>\n",
       "      <td>-122</td>\n",
       "      <td>3</td>\n",
       "    </tr>\n",
       "    <tr>\n",
       "      <th>4</th>\n",
       "      <td>3</td>\n",
       "      <td>52</td>\n",
       "      <td>6</td>\n",
       "      <td>1</td>\n",
       "      <td>565</td>\n",
       "      <td>2</td>\n",
       "      <td>37</td>\n",
       "      <td>-122</td>\n",
       "      <td>3</td>\n",
       "    </tr>\n",
       "  </tbody>\n",
       "</table>\n",
       "</div>"
      ],
      "text/plain": [
       "   MedInc  HouseAge  AveRooms  AveBedrms  Population  AveOccup  Latitude  \\\n",
       "0       8        41         6          1         322         2        37   \n",
       "1       8        21         6          0        2401         2        37   \n",
       "2       7        52         8          1         496         2        37   \n",
       "3       5        52         5          1         558         2        37   \n",
       "4       3        52         6          1         565         2        37   \n",
       "\n",
       "   Longitude  MedHouseVal  \n",
       "0       -122            4  \n",
       "1       -122            3  \n",
       "2       -122            3  \n",
       "3       -122            3  \n",
       "4       -122            3  "
      ]
     },
     "execution_count": 10,
     "metadata": {},
     "output_type": "execute_result"
    }
   ],
   "source": [
    "dataset = fetch_california_housing()\n",
    "df = pd.DataFrame(dataset['data'], columns=dataset['feature_names']).astype('int')\n",
    "target = pd.DataFrame(dataset['target'], columns=dataset['target_names']).astype('int')\n",
    "df = pd.concat([df, target], axis=1)\n",
    "df.head()"
   ]
  },
  {
   "cell_type": "code",
   "execution_count": 11,
   "metadata": {},
   "outputs": [
    {
     "data": {
      "text/plain": [
       "((20640, 5), (20640,))"
      ]
     },
     "execution_count": 11,
     "metadata": {},
     "output_type": "execute_result"
    }
   ],
   "source": [
    "X = df.values[:,[0,1,2,3,5]]\n",
    "Y = df.values[:,-1]\n",
    "\n",
    "# normalizing due to high variation in range of variables\n",
    "scaler = StandardScaler()\n",
    "X = scaler.fit_transform(X)\n",
    "X.shape, Y.shape"
   ]
  },
  {
   "cell_type": "code",
   "execution_count": 12,
   "metadata": {},
   "outputs": [],
   "source": [
    "def loss_fn(theta, X, Y):\n",
    "    return (Y-X@theta).T @ (Y-X@theta)\n",
    "\n",
    "def gradient(theta, X, Y):\n",
    "    dtheta = 2 * (X.T @ X @ theta - X.T @ Y)\n",
    "    return dtheta\n",
    "\n",
    "def projection(theta):\n",
    "    if theta[0]<0:\n",
    "        theta[0] = 0\n",
    "    if theta[1]>0:\n",
    "        theta[1] = 0\n",
    "    return theta    \n",
    "\n",
    "def projected_gradient_descent(theta_init, X, Y, alpha, eps, max_iters, allow_constraints=False):\n",
    "    theta = theta_init\n",
    "    dtheta = np.random.random(theta_init.shape)\n",
    "    thetas = []\n",
    "    costs = []\n",
    "    n_iters = 0\n",
    "    terminated_flag = 0\n",
    "\n",
    "    while (np.linalg.norm(dtheta)>eps):\n",
    "        dtheta = gradient(theta, X, Y)\n",
    "        theta = theta - alpha * dtheta\n",
    "\n",
    "        # constraints\n",
    "        if allow_constraints:\n",
    "            theta = projection(theta)\n",
    "\n",
    "        cost = loss_fn(theta, X, Y)\n",
    "        thetas.append(theta)\n",
    "        costs.append(cost)\n",
    "        n_iters+=1\n",
    "        \n",
    "        if n_iters>=max_iters:\n",
    "            terminated_flag = 1\n",
    "            print(f'Terminated in {n_iters} iterations..')\n",
    "            break\n",
    "    if terminated_flag!=1:\n",
    "        print(f'Converged in {n_iters} iterations..')        \n",
    "    return np.array(thetas), costs"
   ]
  },
  {
   "cell_type": "code",
   "execution_count": 13,
   "metadata": {},
   "outputs": [
    {
     "name": "stdout",
     "output_type": "stream",
     "text": [
      "Without Constraints:\n",
      "Converged in 138 iterations..\n",
      "Final Solution: [0.965, 0.228, -0.228, 0.221, -0.048]\n",
      "Final Cost: 67658.53460640686\n",
      "\n",
      "With Constraints:\n",
      "Terminated in 5000 iterations..\n",
      "Final Solution: [0.946, 0.0, -0.255, 0.217, -0.045]\n",
      "Final Cost: 68702.59083450891\n"
     ]
    }
   ],
   "source": [
    "theta_init = np.random.random(X.shape[1])\n",
    "alpha = 1E-5\n",
    "eps = 1E-3\n",
    "max_iters = 5000\n",
    "\n",
    "print('Without Constraints:')\n",
    "thetas, costs = projected_gradient_descent(theta_init, X, Y, alpha, eps, max_iters, allow_constraints=False)\n",
    "print('Final Solution:', (thetas[-1]).round(3).tolist())\n",
    "print('Final Cost:', costs[-1])\n",
    "\n",
    "print()\n",
    "print('With Constraints:')\n",
    "thetas, costs = projected_gradient_descent(theta_init, X, Y, alpha, eps, max_iters, allow_constraints=True)\n",
    "print('Final Solution:', (thetas[-1]).round(3).tolist())\n",
    "print('Final Cost:', costs[-1])"
   ]
  },
  {
   "cell_type": "code",
   "execution_count": null,
   "metadata": {},
   "outputs": [],
   "source": []
  }
 ],
 "metadata": {
  "interpreter": {
   "hash": "951daa5e1959839fcb325fff331f52e72634f7a1be998f6081ed7f433b63f1b3"
  },
  "kernelspec": {
   "display_name": "Python 3.8.11 64-bit ('base': conda)",
   "language": "python",
   "name": "python3"
  },
  "language_info": {
   "codemirror_mode": {
    "name": "ipython",
    "version": 3
   },
   "file_extension": ".py",
   "mimetype": "text/x-python",
   "name": "python",
   "nbconvert_exporter": "python",
   "pygments_lexer": "ipython3",
   "version": "3.8.11"
  },
  "orig_nbformat": 4
 },
 "nbformat": 4,
 "nbformat_minor": 2
}
