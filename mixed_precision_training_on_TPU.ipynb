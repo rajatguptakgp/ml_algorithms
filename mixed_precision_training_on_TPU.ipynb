{
  "cells": [
    {
      "cell_type": "markdown",
      "metadata": {
        "id": "view-in-github",
        "colab_type": "text"
      },
      "source": [
        "<a href=\"https://colab.research.google.com/github/rajatguptakgp/practical_machine_learning/blob/main/mixed_precision_training_on_TPU.ipynb\" target=\"_parent\"><img src=\"https://colab.research.google.com/assets/colab-badge.svg\" alt=\"Open In Colab\"/></a>"
      ]
    },
    {
      "cell_type": "code",
      "execution_count": 1,
      "metadata": {
        "id": "LZGHKVdNC9-s"
      },
      "outputs": [],
      "source": [
        "import tensorflow as tf\n",
        "from tensorflow import keras\n",
        "from tensorflow.keras import layers, Sequential\n",
        "from tensorflow.keras import mixed_precision"
      ]
    },
    {
      "cell_type": "code",
      "source": [
        "# connecting Colab to available TPU instance\n",
        "resolver = tf.distribute.cluster_resolver.TPUClusterResolver()\n",
        "tf.config.experimental_connect_to_cluster(resolver)\n",
        "\n",
        "# TPU initialization\n",
        "tf.tpu.experimental.initialize_tpu_system(resolver)\n",
        "tf.config.list_logical_devices('TPU')"
      ],
      "metadata": {
        "colab": {
          "base_uri": "https://localhost:8080/"
        },
        "id": "-R8v0ZI9LcDT",
        "outputId": "b95e00d6-1cf8-49f2-bf38-931db483e733"
      },
      "execution_count": 2,
      "outputs": [
        {
          "output_type": "stream",
          "name": "stdout",
          "text": [
            "INFO:tensorflow:Deallocate tpu buffers before initializing tpu system.\n"
          ]
        },
        {
          "output_type": "stream",
          "name": "stderr",
          "text": [
            "INFO:tensorflow:Deallocate tpu buffers before initializing tpu system.\n"
          ]
        },
        {
          "output_type": "stream",
          "name": "stdout",
          "text": [
            "INFO:tensorflow:Initializing the TPU system: grpc://10.119.7.234:8470\n"
          ]
        },
        {
          "output_type": "stream",
          "name": "stderr",
          "text": [
            "INFO:tensorflow:Initializing the TPU system: grpc://10.119.7.234:8470\n"
          ]
        },
        {
          "output_type": "stream",
          "name": "stdout",
          "text": [
            "INFO:tensorflow:Finished initializing TPU system.\n"
          ]
        },
        {
          "output_type": "stream",
          "name": "stderr",
          "text": [
            "INFO:tensorflow:Finished initializing TPU system.\n"
          ]
        },
        {
          "output_type": "execute_result",
          "data": {
            "text/plain": [
              "[LogicalDevice(name='/job:worker/replica:0/task:0/device:TPU:0', device_type='TPU'),\n",
              " LogicalDevice(name='/job:worker/replica:0/task:0/device:TPU:1', device_type='TPU'),\n",
              " LogicalDevice(name='/job:worker/replica:0/task:0/device:TPU:2', device_type='TPU'),\n",
              " LogicalDevice(name='/job:worker/replica:0/task:0/device:TPU:3', device_type='TPU'),\n",
              " LogicalDevice(name='/job:worker/replica:0/task:0/device:TPU:4', device_type='TPU'),\n",
              " LogicalDevice(name='/job:worker/replica:0/task:0/device:TPU:5', device_type='TPU'),\n",
              " LogicalDevice(name='/job:worker/replica:0/task:0/device:TPU:6', device_type='TPU'),\n",
              " LogicalDevice(name='/job:worker/replica:0/task:0/device:TPU:7', device_type='TPU')]"
            ]
          },
          "metadata": {},
          "execution_count": 2
        }
      ]
    },
    {
      "cell_type": "code",
      "source": [
        "# initialize distributed training strategy\n",
        "strategy = tf.distribute.TPUStrategy(resolver)"
      ],
      "metadata": {
        "colab": {
          "base_uri": "https://localhost:8080/"
        },
        "id": "MG28zAQOME30",
        "outputId": "5719d6df-02d5-474f-f43b-36b1532157d1"
      },
      "execution_count": 3,
      "outputs": [
        {
          "output_type": "stream",
          "name": "stdout",
          "text": [
            "INFO:tensorflow:Found TPU system:\n"
          ]
        },
        {
          "output_type": "stream",
          "name": "stderr",
          "text": [
            "INFO:tensorflow:Found TPU system:\n"
          ]
        },
        {
          "output_type": "stream",
          "name": "stdout",
          "text": [
            "INFO:tensorflow:*** Num TPU Cores: 8\n"
          ]
        },
        {
          "output_type": "stream",
          "name": "stderr",
          "text": [
            "INFO:tensorflow:*** Num TPU Cores: 8\n"
          ]
        },
        {
          "output_type": "stream",
          "name": "stdout",
          "text": [
            "INFO:tensorflow:*** Num TPU Workers: 1\n"
          ]
        },
        {
          "output_type": "stream",
          "name": "stderr",
          "text": [
            "INFO:tensorflow:*** Num TPU Workers: 1\n"
          ]
        },
        {
          "output_type": "stream",
          "name": "stdout",
          "text": [
            "INFO:tensorflow:*** Num TPU Cores Per Worker: 8\n"
          ]
        },
        {
          "output_type": "stream",
          "name": "stderr",
          "text": [
            "INFO:tensorflow:*** Num TPU Cores Per Worker: 8\n"
          ]
        },
        {
          "output_type": "stream",
          "name": "stdout",
          "text": [
            "INFO:tensorflow:*** Available Device: _DeviceAttributes(/job:localhost/replica:0/task:0/device:CPU:0, CPU, 0, 0)\n"
          ]
        },
        {
          "output_type": "stream",
          "name": "stderr",
          "text": [
            "INFO:tensorflow:*** Available Device: _DeviceAttributes(/job:localhost/replica:0/task:0/device:CPU:0, CPU, 0, 0)\n"
          ]
        },
        {
          "output_type": "stream",
          "name": "stdout",
          "text": [
            "INFO:tensorflow:*** Available Device: _DeviceAttributes(/job:worker/replica:0/task:0/device:CPU:0, CPU, 0, 0)\n"
          ]
        },
        {
          "output_type": "stream",
          "name": "stderr",
          "text": [
            "INFO:tensorflow:*** Available Device: _DeviceAttributes(/job:worker/replica:0/task:0/device:CPU:0, CPU, 0, 0)\n"
          ]
        },
        {
          "output_type": "stream",
          "name": "stdout",
          "text": [
            "INFO:tensorflow:*** Available Device: _DeviceAttributes(/job:worker/replica:0/task:0/device:TPU:0, TPU, 0, 0)\n"
          ]
        },
        {
          "output_type": "stream",
          "name": "stderr",
          "text": [
            "INFO:tensorflow:*** Available Device: _DeviceAttributes(/job:worker/replica:0/task:0/device:TPU:0, TPU, 0, 0)\n"
          ]
        },
        {
          "output_type": "stream",
          "name": "stdout",
          "text": [
            "INFO:tensorflow:*** Available Device: _DeviceAttributes(/job:worker/replica:0/task:0/device:TPU:1, TPU, 0, 0)\n"
          ]
        },
        {
          "output_type": "stream",
          "name": "stderr",
          "text": [
            "INFO:tensorflow:*** Available Device: _DeviceAttributes(/job:worker/replica:0/task:0/device:TPU:1, TPU, 0, 0)\n"
          ]
        },
        {
          "output_type": "stream",
          "name": "stdout",
          "text": [
            "INFO:tensorflow:*** Available Device: _DeviceAttributes(/job:worker/replica:0/task:0/device:TPU:2, TPU, 0, 0)\n"
          ]
        },
        {
          "output_type": "stream",
          "name": "stderr",
          "text": [
            "INFO:tensorflow:*** Available Device: _DeviceAttributes(/job:worker/replica:0/task:0/device:TPU:2, TPU, 0, 0)\n"
          ]
        },
        {
          "output_type": "stream",
          "name": "stdout",
          "text": [
            "INFO:tensorflow:*** Available Device: _DeviceAttributes(/job:worker/replica:0/task:0/device:TPU:3, TPU, 0, 0)\n"
          ]
        },
        {
          "output_type": "stream",
          "name": "stderr",
          "text": [
            "INFO:tensorflow:*** Available Device: _DeviceAttributes(/job:worker/replica:0/task:0/device:TPU:3, TPU, 0, 0)\n"
          ]
        },
        {
          "output_type": "stream",
          "name": "stdout",
          "text": [
            "INFO:tensorflow:*** Available Device: _DeviceAttributes(/job:worker/replica:0/task:0/device:TPU:4, TPU, 0, 0)\n"
          ]
        },
        {
          "output_type": "stream",
          "name": "stderr",
          "text": [
            "INFO:tensorflow:*** Available Device: _DeviceAttributes(/job:worker/replica:0/task:0/device:TPU:4, TPU, 0, 0)\n"
          ]
        },
        {
          "output_type": "stream",
          "name": "stdout",
          "text": [
            "INFO:tensorflow:*** Available Device: _DeviceAttributes(/job:worker/replica:0/task:0/device:TPU:5, TPU, 0, 0)\n"
          ]
        },
        {
          "output_type": "stream",
          "name": "stderr",
          "text": [
            "INFO:tensorflow:*** Available Device: _DeviceAttributes(/job:worker/replica:0/task:0/device:TPU:5, TPU, 0, 0)\n"
          ]
        },
        {
          "output_type": "stream",
          "name": "stdout",
          "text": [
            "INFO:tensorflow:*** Available Device: _DeviceAttributes(/job:worker/replica:0/task:0/device:TPU:6, TPU, 0, 0)\n"
          ]
        },
        {
          "output_type": "stream",
          "name": "stderr",
          "text": [
            "INFO:tensorflow:*** Available Device: _DeviceAttributes(/job:worker/replica:0/task:0/device:TPU:6, TPU, 0, 0)\n"
          ]
        },
        {
          "output_type": "stream",
          "name": "stdout",
          "text": [
            "INFO:tensorflow:*** Available Device: _DeviceAttributes(/job:worker/replica:0/task:0/device:TPU:7, TPU, 0, 0)\n"
          ]
        },
        {
          "output_type": "stream",
          "name": "stderr",
          "text": [
            "INFO:tensorflow:*** Available Device: _DeviceAttributes(/job:worker/replica:0/task:0/device:TPU:7, TPU, 0, 0)\n"
          ]
        },
        {
          "output_type": "stream",
          "name": "stdout",
          "text": [
            "INFO:tensorflow:*** Available Device: _DeviceAttributes(/job:worker/replica:0/task:0/device:TPU_SYSTEM:0, TPU_SYSTEM, 0, 0)\n"
          ]
        },
        {
          "output_type": "stream",
          "name": "stderr",
          "text": [
            "INFO:tensorflow:*** Available Device: _DeviceAttributes(/job:worker/replica:0/task:0/device:TPU_SYSTEM:0, TPU_SYSTEM, 0, 0)\n"
          ]
        },
        {
          "output_type": "stream",
          "name": "stdout",
          "text": [
            "INFO:tensorflow:*** Available Device: _DeviceAttributes(/job:worker/replica:0/task:0/device:XLA_CPU:0, XLA_CPU, 0, 0)\n"
          ]
        },
        {
          "output_type": "stream",
          "name": "stderr",
          "text": [
            "INFO:tensorflow:*** Available Device: _DeviceAttributes(/job:worker/replica:0/task:0/device:XLA_CPU:0, XLA_CPU, 0, 0)\n"
          ]
        }
      ]
    },
    {
      "cell_type": "code",
      "source": [
        "with strategy.scope():\n",
        "\n",
        "  # model architecture\n",
        "  num_nodes = [1024, 512, 256, 128, 64]\n",
        "  model_layers = []\n",
        "  model_layers.append(layers.Flatten(dtype='float32'))\n",
        "  for nodes in num_nodes:\n",
        "      model_layers.append(layers.Dense(nodes, activation='relu', dtype='float32'))\n",
        "  model_layers.append(layers.Activation('softmax', dtype='float32'))\n",
        "\n",
        "  # building model\n",
        "  model = Sequential(model_layers)\n",
        "  model.compile(loss='sparse_categorical_crossentropy', optimizer=keras.optimizers.Adam(), metrics=['accuracy'])\n",
        "\n",
        "  model.build(input_shape = (None, 32, 32, 3))\n",
        "  model.summary()  \n",
        "\n",
        "for layer_idx, layer in enumerate(model.layers): \n",
        "  print(layer.name)\n",
        "  print(f'Variable dtype: {layer.dtype}')\n",
        "  print(f'Computation dtype: {layer.compute_dtype}') \n",
        "  print()  "
      ],
      "metadata": {
        "colab": {
          "base_uri": "https://localhost:8080/"
        },
        "id": "SRgy0BlcPuat",
        "outputId": "0de4f653-82d5-465a-a41a-ac91d5813f2f"
      },
      "execution_count": 4,
      "outputs": [
        {
          "output_type": "stream",
          "name": "stdout",
          "text": [
            "Model: \"sequential\"\n",
            "_________________________________________________________________\n",
            " Layer (type)                Output Shape              Param #   \n",
            "=================================================================\n",
            " flatten (Flatten)           (None, 3072)              0         \n",
            "                                                                 \n",
            " dense (Dense)               (None, 1024)              3146752   \n",
            "                                                                 \n",
            " dense_1 (Dense)             (None, 512)               524800    \n",
            "                                                                 \n",
            " dense_2 (Dense)             (None, 256)               131328    \n",
            "                                                                 \n",
            " dense_3 (Dense)             (None, 128)               32896     \n",
            "                                                                 \n",
            " dense_4 (Dense)             (None, 64)                8256      \n",
            "                                                                 \n",
            " activation (Activation)     (None, 64)                0         \n",
            "                                                                 \n",
            "=================================================================\n",
            "Total params: 3,844,032\n",
            "Trainable params: 3,844,032\n",
            "Non-trainable params: 0\n",
            "_________________________________________________________________\n",
            "flatten\n",
            "Variable dtype: float32\n",
            "Computation dtype: float32\n",
            "\n",
            "dense\n",
            "Variable dtype: float32\n",
            "Computation dtype: float32\n",
            "\n",
            "dense_1\n",
            "Variable dtype: float32\n",
            "Computation dtype: float32\n",
            "\n",
            "dense_2\n",
            "Variable dtype: float32\n",
            "Computation dtype: float32\n",
            "\n",
            "dense_3\n",
            "Variable dtype: float32\n",
            "Computation dtype: float32\n",
            "\n",
            "dense_4\n",
            "Variable dtype: float32\n",
            "Computation dtype: float32\n",
            "\n",
            "activation\n",
            "Variable dtype: float32\n",
            "Computation dtype: float32\n",
            "\n"
          ]
        }
      ]
    },
    {
      "cell_type": "code",
      "execution_count": 5,
      "metadata": {
        "colab": {
          "base_uri": "https://localhost:8080/"
        },
        "id": "ycy8qd90C9-v",
        "outputId": "41d57469-6af0-40be-fba5-54d79c001aa5"
      },
      "outputs": [
        {
          "output_type": "stream",
          "name": "stdout",
          "text": [
            "x_train: (50000, 32, 32, 3)\n",
            "y_train: (50000, 1)\n",
            "x_test: (10000, 32, 32, 3)\n",
            "y_test: (10000, 1)\n",
            "Epoch 1/50\n",
            "WARNING:tensorflow:From /usr/local/lib/python3.7/dist-packages/keras/engine/training.py:2970: StrategyBase.unwrap (from tensorflow.python.distribute.distribute_lib) is deprecated and will be removed in a future version.\n",
            "Instructions for updating:\n",
            "use `experimental_local_results` instead.\n"
          ]
        },
        {
          "output_type": "stream",
          "name": "stderr",
          "text": [
            "WARNING:tensorflow:From /usr/local/lib/python3.7/dist-packages/keras/engine/training.py:2970: StrategyBase.unwrap (from tensorflow.python.distribute.distribute_lib) is deprecated and will be removed in a future version.\n",
            "Instructions for updating:\n",
            "use `experimental_local_results` instead.\n"
          ]
        },
        {
          "output_type": "stream",
          "name": "stdout",
          "text": [
            "20/20 [==============================] - 15s 498ms/step - loss: 3.4791 - accuracy: 0.1120 - val_loss: 3.1170 - val_accuracy: 0.1640\n",
            "Epoch 2/50\n",
            "20/20 [==============================] - 2s 129ms/step - loss: 3.0144 - accuracy: 0.2082 - val_loss: 2.9505 - val_accuracy: 0.2306\n",
            "Epoch 3/50\n",
            "20/20 [==============================] - 2s 106ms/step - loss: 2.9108 - accuracy: 0.2547 - val_loss: 2.8804 - val_accuracy: 0.2737\n",
            "Epoch 4/50\n",
            "20/20 [==============================] - 2s 79ms/step - loss: 2.8534 - accuracy: 0.2862 - val_loss: 2.8385 - val_accuracy: 0.3017\n",
            "Epoch 5/50\n",
            "20/20 [==============================] - 1s 69ms/step - loss: 2.8059 - accuracy: 0.3024 - val_loss: 2.7814 - val_accuracy: 0.3117\n",
            "Epoch 6/50\n",
            "20/20 [==============================] - 1s 69ms/step - loss: 2.7765 - accuracy: 0.3083 - val_loss: 2.7899 - val_accuracy: 0.2946\n",
            "Epoch 7/50\n",
            "20/20 [==============================] - 1s 67ms/step - loss: 2.7436 - accuracy: 0.3246 - val_loss: 2.7290 - val_accuracy: 0.3313\n",
            "Epoch 8/50\n",
            "20/20 [==============================] - 1s 67ms/step - loss: 2.7019 - accuracy: 0.3401 - val_loss: 2.7459 - val_accuracy: 0.3233\n",
            "Epoch 9/50\n",
            "20/20 [==============================] - 1s 67ms/step - loss: 2.6917 - accuracy: 0.3365 - val_loss: 2.6973 - val_accuracy: 0.3326\n",
            "Epoch 10/50\n",
            "20/20 [==============================] - 1s 67ms/step - loss: 2.6586 - accuracy: 0.3501 - val_loss: 2.6779 - val_accuracy: 0.3457\n",
            "Epoch 11/50\n",
            "20/20 [==============================] - 1s 69ms/step - loss: 2.6602 - accuracy: 0.3496 - val_loss: 2.6679 - val_accuracy: 0.3473\n",
            "Epoch 12/50\n",
            "20/20 [==============================] - 1s 68ms/step - loss: 2.6421 - accuracy: 0.3559 - val_loss: 2.6491 - val_accuracy: 0.3484\n",
            "Epoch 13/50\n",
            "20/20 [==============================] - 1s 67ms/step - loss: 2.6203 - accuracy: 0.3592 - val_loss: 2.6925 - val_accuracy: 0.3378\n",
            "Epoch 14/50\n",
            "20/20 [==============================] - 1s 67ms/step - loss: 2.6137 - accuracy: 0.3625 - val_loss: 2.6402 - val_accuracy: 0.3521\n",
            "Epoch 15/50\n",
            "20/20 [==============================] - 1s 68ms/step - loss: 2.5877 - accuracy: 0.3679 - val_loss: 2.6216 - val_accuracy: 0.3555\n",
            "Epoch 16/50\n",
            "20/20 [==============================] - 1s 67ms/step - loss: 2.4451 - accuracy: 0.3951 - val_loss: 2.3914 - val_accuracy: 0.3907\n",
            "Epoch 17/50\n",
            "20/20 [==============================] - 1s 70ms/step - loss: 2.3195 - accuracy: 0.4167 - val_loss: 2.3352 - val_accuracy: 0.4078\n",
            "Epoch 18/50\n",
            "20/20 [==============================] - 1s 69ms/step - loss: 2.2926 - accuracy: 0.4249 - val_loss: 2.3446 - val_accuracy: 0.4053\n",
            "Epoch 19/50\n",
            "20/20 [==============================] - 1s 69ms/step - loss: 2.2708 - accuracy: 0.4288 - val_loss: 2.3389 - val_accuracy: 0.4066\n",
            "Epoch 20/50\n",
            "20/20 [==============================] - 1s 70ms/step - loss: 2.2593 - accuracy: 0.4320 - val_loss: 2.3075 - val_accuracy: 0.4086\n",
            "Epoch 21/50\n",
            "20/20 [==============================] - 1s 69ms/step - loss: 2.2597 - accuracy: 0.4308 - val_loss: 2.2911 - val_accuracy: 0.4145\n",
            "Epoch 22/50\n",
            "20/20 [==============================] - 1s 70ms/step - loss: 2.2209 - accuracy: 0.4426 - val_loss: 2.2930 - val_accuracy: 0.4187\n",
            "Epoch 23/50\n",
            "20/20 [==============================] - 2s 81ms/step - loss: 2.1960 - accuracy: 0.4494 - val_loss: 2.2719 - val_accuracy: 0.4211\n",
            "Epoch 24/50\n",
            "20/20 [==============================] - 1s 69ms/step - loss: 2.1737 - accuracy: 0.4559 - val_loss: 2.2817 - val_accuracy: 0.4177\n",
            "Epoch 25/50\n",
            "20/20 [==============================] - 1s 69ms/step - loss: 2.1706 - accuracy: 0.4544 - val_loss: 2.2536 - val_accuracy: 0.4271\n",
            "Epoch 26/50\n",
            "20/20 [==============================] - 1s 67ms/step - loss: 2.1487 - accuracy: 0.4610 - val_loss: 2.2185 - val_accuracy: 0.4372\n",
            "Epoch 27/50\n",
            "20/20 [==============================] - 1s 71ms/step - loss: 2.1349 - accuracy: 0.4628 - val_loss: 2.2435 - val_accuracy: 0.4240\n",
            "Epoch 28/50\n",
            "20/20 [==============================] - 1s 70ms/step - loss: 2.1161 - accuracy: 0.4687 - val_loss: 2.2205 - val_accuracy: 0.4353\n",
            "Epoch 29/50\n",
            "20/20 [==============================] - 1s 70ms/step - loss: 2.1022 - accuracy: 0.4733 - val_loss: 2.2502 - val_accuracy: 0.4277\n",
            "Epoch 30/50\n",
            "20/20 [==============================] - 1s 70ms/step - loss: 2.0831 - accuracy: 0.4795 - val_loss: 2.2220 - val_accuracy: 0.4358\n",
            "Epoch 31/50\n",
            "20/20 [==============================] - 2s 85ms/step - loss: 2.0767 - accuracy: 0.4827 - val_loss: 2.2277 - val_accuracy: 0.4374\n",
            "Epoch 32/50\n",
            "20/20 [==============================] - 1s 68ms/step - loss: 2.0583 - accuracy: 0.4845 - val_loss: 2.1843 - val_accuracy: 0.4493\n",
            "Epoch 33/50\n",
            "20/20 [==============================] - 1s 68ms/step - loss: 2.0356 - accuracy: 0.4896 - val_loss: 2.2310 - val_accuracy: 0.4313\n",
            "Epoch 34/50\n",
            "20/20 [==============================] - 1s 70ms/step - loss: 2.0309 - accuracy: 0.4948 - val_loss: 2.2026 - val_accuracy: 0.4441\n",
            "Epoch 35/50\n",
            "20/20 [==============================] - 1s 68ms/step - loss: 2.0286 - accuracy: 0.4913 - val_loss: 2.1657 - val_accuracy: 0.4491\n",
            "Epoch 36/50\n",
            "20/20 [==============================] - 1s 68ms/step - loss: 1.9937 - accuracy: 0.5015 - val_loss: 2.1779 - val_accuracy: 0.4498\n",
            "Epoch 37/50\n",
            "20/20 [==============================] - 1s 69ms/step - loss: 1.9928 - accuracy: 0.5001 - val_loss: 2.1740 - val_accuracy: 0.4480\n",
            "Epoch 38/50\n",
            "20/20 [==============================] - 1s 68ms/step - loss: 1.9570 - accuracy: 0.5113 - val_loss: 2.2350 - val_accuracy: 0.4318\n",
            "Epoch 39/50\n",
            "20/20 [==============================] - 1s 73ms/step - loss: 1.9503 - accuracy: 0.5129 - val_loss: 2.1882 - val_accuracy: 0.4483\n",
            "Epoch 40/50\n",
            "20/20 [==============================] - 2s 108ms/step - loss: 1.9384 - accuracy: 0.5174 - val_loss: 2.1849 - val_accuracy: 0.4448\n",
            "Epoch 41/50\n",
            "20/20 [==============================] - 1s 74ms/step - loss: 1.9056 - accuracy: 0.5275 - val_loss: 2.1862 - val_accuracy: 0.4485\n",
            "Epoch 42/50\n",
            "20/20 [==============================] - 1s 73ms/step - loss: 1.9009 - accuracy: 0.5280 - val_loss: 2.1482 - val_accuracy: 0.4627\n",
            "Epoch 43/50\n",
            "20/20 [==============================] - 1s 74ms/step - loss: 1.8943 - accuracy: 0.5311 - val_loss: 2.1788 - val_accuracy: 0.4537\n",
            "Epoch 44/50\n",
            "20/20 [==============================] - 1s 72ms/step - loss: 1.8731 - accuracy: 0.5351 - val_loss: 2.2092 - val_accuracy: 0.4540\n",
            "Epoch 45/50\n",
            "20/20 [==============================] - 1s 68ms/step - loss: 1.8640 - accuracy: 0.5408 - val_loss: 2.1757 - val_accuracy: 0.4522\n",
            "Epoch 46/50\n",
            "20/20 [==============================] - 1s 67ms/step - loss: 1.8497 - accuracy: 0.5391 - val_loss: 2.1838 - val_accuracy: 0.4547\n",
            "Epoch 47/50\n",
            "20/20 [==============================] - 1s 68ms/step - loss: 1.8219 - accuracy: 0.5508 - val_loss: 2.1777 - val_accuracy: 0.4512\n",
            "Epoch 48/50\n",
            "20/20 [==============================] - 1s 69ms/step - loss: 1.8062 - accuracy: 0.5554 - val_loss: 2.2409 - val_accuracy: 0.4403\n",
            "Epoch 49/50\n",
            "20/20 [==============================] - 1s 69ms/step - loss: 1.7993 - accuracy: 0.5553 - val_loss: 2.2358 - val_accuracy: 0.4485\n",
            "Epoch 50/50\n",
            "20/20 [==============================] - 1s 68ms/step - loss: 1.7745 - accuracy: 0.5640 - val_loss: 2.1922 - val_accuracy: 0.4599\n",
            "313/313 - 4s - loss: 2.1826 - accuracy: 0.4628 - 4s/epoch - 14ms/step\n",
            "Test loss: 2.183\n",
            "Test accuracy: 0.463\n"
          ]
        }
      ],
      "source": [
        "# loading CIFAR-10 dataset\n",
        "(x_train, y_train), (x_test, y_test) = keras.datasets.cifar10.load_data()\n",
        "print('x_train:', x_train.shape)\n",
        "print('y_train:', y_train.shape)\n",
        "print('x_test:', x_test.shape)\n",
        "print('y_test:', y_test.shape)\n",
        "\n",
        "# normalizing inputs\n",
        "x_train = x_train.astype('float32') / 255\n",
        "x_test = x_test.astype('float32') / 255\n",
        "\n",
        "# fitting model\n",
        "history = model.fit(x_train, y_train, batch_size=2048, epochs=50, validation_split=0.2)\n",
        "test_scores = model.evaluate(x_test, y_test, verbose=2)\n",
        "print('Test loss:', round(test_scores[0], 3))\n",
        "print('Test accuracy:', round(test_scores[1], 3))"
      ]
    },
    {
      "cell_type": "code",
      "execution_count": 6,
      "metadata": {
        "colab": {
          "base_uri": "https://localhost:8080/"
        },
        "id": "BaKNoE5jC9-x",
        "outputId": "a0a8e9d3-62c5-483c-bc81-86cb8dedfee5"
      },
      "outputs": [
        {
          "output_type": "stream",
          "name": "stdout",
          "text": [
            "Compute dtype: bfloat16\n",
            "Variable dtype: float32\n"
          ]
        }
      ],
      "source": [
        "policy = mixed_precision.Policy('mixed_bfloat16')\n",
        "mixed_precision.set_global_policy(policy)\n",
        "\n",
        "print('Compute dtype: %s' % policy.compute_dtype)\n",
        "print('Variable dtype: %s' % policy.variable_dtype)"
      ]
    },
    {
      "cell_type": "code",
      "source": [
        "with strategy.scope():\n",
        "\n",
        "  # model architecture\n",
        "  num_nodes = [1024, 512, 256, 128, 64]\n",
        "  model_layers = []\n",
        "  model_layers.append(layers.Flatten())\n",
        "  for nodes in num_nodes:\n",
        "      model_layers.append(layers.Dense(nodes, activation='relu'))\n",
        "  # final layer has to be float32    \n",
        "  model_layers.append(layers.Activation('softmax', dtype='float32'))\n",
        "\n",
        "  # building model\n",
        "  model = Sequential(model_layers)\n",
        "  model.compile(loss='sparse_categorical_crossentropy', steps_per_execution = 50, optimizer=keras.optimizers.Adam(), metrics=['accuracy'])\n",
        "\n",
        "  model.build(input_shape = (None, 32, 32, 3))\n",
        "  model.summary()    \n",
        "\n",
        "for layer_idx, layer in enumerate(model.layers): \n",
        "  print(layer.name)\n",
        "  print(f'Variable dtype: {layer.dtype}')\n",
        "  print(f'Computation dtype: {layer.compute_dtype}') \n",
        "  print() "
      ],
      "metadata": {
        "colab": {
          "base_uri": "https://localhost:8080/"
        },
        "id": "Xg6sFrV8P2Ky",
        "outputId": "472c6a37-42d0-4629-abad-372d8621aa66"
      },
      "execution_count": 7,
      "outputs": [
        {
          "output_type": "stream",
          "name": "stdout",
          "text": [
            "Model: \"sequential_1\"\n",
            "_________________________________________________________________\n",
            " Layer (type)                Output Shape              Param #   \n",
            "=================================================================\n",
            " flatten_1 (Flatten)         (None, 3072)              0         \n",
            "                                                                 \n",
            " dense_5 (Dense)             (None, 1024)              3146752   \n",
            "                                                                 \n",
            " dense_6 (Dense)             (None, 512)               524800    \n",
            "                                                                 \n",
            " dense_7 (Dense)             (None, 256)               131328    \n",
            "                                                                 \n",
            " dense_8 (Dense)             (None, 128)               32896     \n",
            "                                                                 \n",
            " dense_9 (Dense)             (None, 64)                8256      \n",
            "                                                                 \n",
            " activation_1 (Activation)   (None, 64)                0         \n",
            "                                                                 \n",
            "=================================================================\n",
            "Total params: 3,844,032\n",
            "Trainable params: 3,844,032\n",
            "Non-trainable params: 0\n",
            "_________________________________________________________________\n",
            "flatten_1\n",
            "Variable dtype: float32\n",
            "Computation dtype: bfloat16\n",
            "\n",
            "dense_5\n",
            "Variable dtype: float32\n",
            "Computation dtype: bfloat16\n",
            "\n",
            "dense_6\n",
            "Variable dtype: float32\n",
            "Computation dtype: bfloat16\n",
            "\n",
            "dense_7\n",
            "Variable dtype: float32\n",
            "Computation dtype: bfloat16\n",
            "\n",
            "dense_8\n",
            "Variable dtype: float32\n",
            "Computation dtype: bfloat16\n",
            "\n",
            "dense_9\n",
            "Variable dtype: float32\n",
            "Computation dtype: bfloat16\n",
            "\n",
            "activation_1\n",
            "Variable dtype: float32\n",
            "Computation dtype: float32\n",
            "\n"
          ]
        }
      ]
    },
    {
      "cell_type": "code",
      "execution_count": 8,
      "metadata": {
        "colab": {
          "base_uri": "https://localhost:8080/"
        },
        "id": "h816LJqSC9-y",
        "outputId": "532348f9-3c42-4243-a0fe-3a27fe12bb83"
      },
      "outputs": [
        {
          "output_type": "stream",
          "name": "stdout",
          "text": [
            "x_train: (50000, 32, 32, 3)\n",
            "y_train: (50000, 1)\n",
            "x_test: (10000, 32, 32, 3)\n",
            "y_test: (10000, 1)\n",
            "Epoch 1/50\n",
            "20/20 [==============================] - 14s 687ms/step - loss: 3.2250 - accuracy: 0.1377 - val_loss: 2.8079 - val_accuracy: 0.2029\n",
            "Epoch 2/50\n",
            "20/20 [==============================] - 1s 56ms/step - loss: 2.7320 - accuracy: 0.2533 - val_loss: 2.6581 - val_accuracy: 0.2742\n",
            "Epoch 3/50\n",
            "20/20 [==============================] - 1s 55ms/step - loss: 2.6034 - accuracy: 0.3042 - val_loss: 2.5525 - val_accuracy: 0.3171\n",
            "Epoch 4/50\n",
            "20/20 [==============================] - 1s 56ms/step - loss: 2.5268 - accuracy: 0.3295 - val_loss: 2.4951 - val_accuracy: 0.3350\n",
            "Epoch 5/50\n",
            "20/20 [==============================] - 1s 54ms/step - loss: 2.4731 - accuracy: 0.3458 - val_loss: 2.4465 - val_accuracy: 0.3486\n",
            "Epoch 6/50\n",
            "20/20 [==============================] - 1s 56ms/step - loss: 2.4268 - accuracy: 0.3606 - val_loss: 2.4030 - val_accuracy: 0.3639\n",
            "Epoch 7/50\n",
            "20/20 [==============================] - 1s 53ms/step - loss: 2.3889 - accuracy: 0.3714 - val_loss: 2.3905 - val_accuracy: 0.3671\n",
            "Epoch 8/50\n",
            "20/20 [==============================] - 1s 55ms/step - loss: 2.3534 - accuracy: 0.3817 - val_loss: 2.3444 - val_accuracy: 0.3844\n",
            "Epoch 9/50\n",
            "20/20 [==============================] - 1s 66ms/step - loss: 2.3294 - accuracy: 0.3905 - val_loss: 2.3387 - val_accuracy: 0.3792\n",
            "Epoch 10/50\n",
            "20/20 [==============================] - 1s 54ms/step - loss: 2.3075 - accuracy: 0.3986 - val_loss: 2.3032 - val_accuracy: 0.3920\n",
            "Epoch 11/50\n",
            "20/20 [==============================] - 1s 55ms/step - loss: 2.2683 - accuracy: 0.4110 - val_loss: 2.2863 - val_accuracy: 0.4011\n",
            "Epoch 12/50\n",
            "20/20 [==============================] - 1s 55ms/step - loss: 2.2674 - accuracy: 0.4083 - val_loss: 2.3000 - val_accuracy: 0.3959\n",
            "Epoch 13/50\n",
            "20/20 [==============================] - 1s 53ms/step - loss: 2.2320 - accuracy: 0.4235 - val_loss: 2.2502 - val_accuracy: 0.4060\n",
            "Epoch 14/50\n",
            "20/20 [==============================] - 1s 54ms/step - loss: 2.2172 - accuracy: 0.4249 - val_loss: 2.2566 - val_accuracy: 0.4117\n",
            "Epoch 15/50\n",
            "20/20 [==============================] - 1s 53ms/step - loss: 2.2040 - accuracy: 0.4291 - val_loss: 2.2323 - val_accuracy: 0.4165\n",
            "Epoch 16/50\n",
            "20/20 [==============================] - 1s 55ms/step - loss: 2.1889 - accuracy: 0.4375 - val_loss: 2.2332 - val_accuracy: 0.4169\n",
            "Epoch 17/50\n",
            "20/20 [==============================] - 1s 55ms/step - loss: 2.0989 - accuracy: 0.4417 - val_loss: 2.0520 - val_accuracy: 0.4128\n",
            "Epoch 18/50\n",
            "20/20 [==============================] - 1s 55ms/step - loss: 1.9372 - accuracy: 0.4499 - val_loss: 1.9350 - val_accuracy: 0.4509\n",
            "Epoch 19/50\n",
            "20/20 [==============================] - 1s 54ms/step - loss: 1.8730 - accuracy: 0.4715 - val_loss: 1.9141 - val_accuracy: 0.4540\n",
            "Epoch 20/50\n",
            "20/20 [==============================] - 1s 56ms/step - loss: 1.8485 - accuracy: 0.4802 - val_loss: 1.9193 - val_accuracy: 0.4529\n",
            "Epoch 21/50\n",
            "20/20 [==============================] - 1s 56ms/step - loss: 1.8462 - accuracy: 0.4778 - val_loss: 1.9059 - val_accuracy: 0.4580\n",
            "Epoch 22/50\n",
            "20/20 [==============================] - 1s 57ms/step - loss: 1.8070 - accuracy: 0.4935 - val_loss: 1.9018 - val_accuracy: 0.4586\n",
            "Epoch 23/50\n",
            "20/20 [==============================] - 1s 54ms/step - loss: 1.7911 - accuracy: 0.4984 - val_loss: 1.8564 - val_accuracy: 0.4702\n",
            "Epoch 24/50\n",
            "20/20 [==============================] - 1s 54ms/step - loss: 1.8095 - accuracy: 0.4889 - val_loss: 1.9271 - val_accuracy: 0.4484\n",
            "Epoch 25/50\n",
            "20/20 [==============================] - 1s 54ms/step - loss: 1.7987 - accuracy: 0.4920 - val_loss: 1.8669 - val_accuracy: 0.4662\n",
            "Epoch 26/50\n",
            "20/20 [==============================] - 1s 54ms/step - loss: 1.7439 - accuracy: 0.5150 - val_loss: 1.8693 - val_accuracy: 0.4709\n",
            "Epoch 27/50\n",
            "20/20 [==============================] - 1s 54ms/step - loss: 1.7383 - accuracy: 0.5156 - val_loss: 1.8284 - val_accuracy: 0.4840\n",
            "Epoch 28/50\n",
            "20/20 [==============================] - 1s 55ms/step - loss: 1.7130 - accuracy: 0.5249 - val_loss: 1.8460 - val_accuracy: 0.4769\n",
            "Epoch 29/50\n",
            "20/20 [==============================] - 1s 55ms/step - loss: 1.6970 - accuracy: 0.5272 - val_loss: 1.8160 - val_accuracy: 0.4870\n",
            "Epoch 30/50\n",
            "20/20 [==============================] - 1s 54ms/step - loss: 1.6817 - accuracy: 0.5318 - val_loss: 1.8460 - val_accuracy: 0.4789\n",
            "Epoch 31/50\n",
            "20/20 [==============================] - 1s 56ms/step - loss: 1.6704 - accuracy: 0.5375 - val_loss: 1.8697 - val_accuracy: 0.4739\n",
            "Epoch 32/50\n",
            "20/20 [==============================] - 1s 59ms/step - loss: 1.6743 - accuracy: 0.5349 - val_loss: 1.7889 - val_accuracy: 0.4911\n",
            "Epoch 33/50\n",
            "20/20 [==============================] - 1s 55ms/step - loss: 1.6640 - accuracy: 0.5360 - val_loss: 1.8165 - val_accuracy: 0.4870\n",
            "Epoch 34/50\n",
            "20/20 [==============================] - 1s 58ms/step - loss: 1.6171 - accuracy: 0.5509 - val_loss: 1.6020 - val_accuracy: 0.5007\n",
            "Epoch 35/50\n",
            "20/20 [==============================] - 1s 56ms/step - loss: 1.3331 - accuracy: 0.5351 - val_loss: 1.4706 - val_accuracy: 0.4842\n",
            "Epoch 36/50\n",
            "20/20 [==============================] - 1s 56ms/step - loss: 1.2275 - accuracy: 0.5649 - val_loss: 1.4236 - val_accuracy: 0.5063\n",
            "Epoch 37/50\n",
            "20/20 [==============================] - 1s 54ms/step - loss: 1.1704 - accuracy: 0.5858 - val_loss: 1.4263 - val_accuracy: 0.5134\n",
            "Epoch 38/50\n",
            "20/20 [==============================] - 1s 55ms/step - loss: 1.1812 - accuracy: 0.5803 - val_loss: 1.4461 - val_accuracy: 0.5006\n",
            "Epoch 39/50\n",
            "20/20 [==============================] - 1s 54ms/step - loss: 1.1676 - accuracy: 0.5878 - val_loss: 1.4177 - val_accuracy: 0.5082\n",
            "Epoch 40/50\n",
            "20/20 [==============================] - 1s 58ms/step - loss: 1.1333 - accuracy: 0.5996 - val_loss: 1.3919 - val_accuracy: 0.5190\n",
            "Epoch 41/50\n",
            "20/20 [==============================] - 1s 55ms/step - loss: 1.1339 - accuracy: 0.5982 - val_loss: 1.4324 - val_accuracy: 0.5133\n",
            "Epoch 42/50\n",
            "20/20 [==============================] - 1s 54ms/step - loss: 1.1102 - accuracy: 0.6094 - val_loss: 1.4344 - val_accuracy: 0.5120\n",
            "Epoch 43/50\n",
            "20/20 [==============================] - 2s 75ms/step - loss: 1.0846 - accuracy: 0.6178 - val_loss: 1.4785 - val_accuracy: 0.5030\n",
            "Epoch 44/50\n",
            "20/20 [==============================] - 1s 57ms/step - loss: 1.0743 - accuracy: 0.6202 - val_loss: 1.4003 - val_accuracy: 0.5269\n",
            "Epoch 45/50\n",
            "20/20 [==============================] - 1s 55ms/step - loss: 1.0426 - accuracy: 0.6328 - val_loss: 1.4426 - val_accuracy: 0.5082\n",
            "Epoch 46/50\n",
            "20/20 [==============================] - 1s 54ms/step - loss: 1.0709 - accuracy: 0.6223 - val_loss: 1.3973 - val_accuracy: 0.5203\n",
            "Epoch 47/50\n",
            "20/20 [==============================] - 1s 55ms/step - loss: 1.0304 - accuracy: 0.6348 - val_loss: 1.4505 - val_accuracy: 0.5096\n",
            "Epoch 48/50\n",
            "20/20 [==============================] - 1s 54ms/step - loss: 1.0215 - accuracy: 0.6378 - val_loss: 1.4169 - val_accuracy: 0.5223\n",
            "Epoch 49/50\n",
            "20/20 [==============================] - 1s 54ms/step - loss: 0.9931 - accuracy: 0.6516 - val_loss: 1.4970 - val_accuracy: 0.5030\n",
            "Epoch 50/50\n",
            "20/20 [==============================] - 1s 56ms/step - loss: 1.0066 - accuracy: 0.6438 - val_loss: 1.4640 - val_accuracy: 0.5119\n",
            "313/313 - 3s - loss: 1.4348 - accuracy: 0.5139 - 3s/epoch - 11ms/step\n",
            "Test loss: 1.435\n",
            "Test accuracy: 0.514\n"
          ]
        }
      ],
      "source": [
        "# loading CIFAR-10 dataset\n",
        "(x_train, y_train), (x_test, y_test) = keras.datasets.cifar10.load_data()\n",
        "print('x_train:', x_train.shape)\n",
        "print('y_train:', y_train.shape)\n",
        "print('x_test:', x_test.shape)\n",
        "print('y_test:', y_test.shape)\n",
        "\n",
        "# normalizing inputs\n",
        "x_train = x_train.astype('float32') / 255\n",
        "x_test = x_test.astype('float32') / 255\n",
        "\n",
        "# fitting model\n",
        "history = model.fit(x_train, y_train, batch_size=2048, epochs=50, validation_split=0.2)\n",
        "test_scores = model.evaluate(x_test, y_test, verbose=2)\n",
        "print('Test loss:', round(test_scores[0], 3))\n",
        "print('Test accuracy:', round(test_scores[1], 3))"
      ]
    },
    {
      "cell_type": "code",
      "execution_count": 8,
      "metadata": {
        "id": "4fZJ8DXEC9-z"
      },
      "outputs": [],
      "source": [
        ""
      ]
    }
  ],
  "metadata": {
    "interpreter": {
      "hash": "951daa5e1959839fcb325fff331f52e72634f7a1be998f6081ed7f433b63f1b3"
    },
    "kernelspec": {
      "display_name": "Python 3.8.11 64-bit ('base': conda)",
      "language": "python",
      "name": "python3"
    },
    "language_info": {
      "codemirror_mode": {
        "name": "ipython",
        "version": 3
      },
      "file_extension": ".py",
      "mimetype": "text/x-python",
      "name": "python",
      "nbconvert_exporter": "python",
      "pygments_lexer": "ipython3",
      "version": "3.8.11"
    },
    "orig_nbformat": 4,
    "colab": {
      "name": "mixed_precision_training_on_TPU.ipynb",
      "provenance": [],
      "collapsed_sections": [],
      "include_colab_link": true
    },
    "accelerator": "TPU"
  },
  "nbformat": 4,
  "nbformat_minor": 0
}