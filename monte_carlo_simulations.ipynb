{
 "cells": [
  {
   "cell_type": "code",
   "execution_count": 1,
   "metadata": {},
   "outputs": [],
   "source": [
    "import numpy as np\n",
    "import seaborn as sns\n",
    "import matplotlib.pyplot as plt\n",
    "from tqdm import tqdm\n",
    "\n",
    "plt.rcParams['figure.figsize'] = (4, 4)"
   ]
  },
  {
   "cell_type": "markdown",
   "metadata": {},
   "source": [
    "#### Example 1: Calculating Pi\n",
    "\n",
    "The area of circle with radius 1 is pi. \n",
    "\n",
    "Consider a square centered at origin and having side length 2. If you fill the area with minute particles, and calculate fraction of number of particles lying within the circle given that the particles are fine (or number of particles are large enough), it should represent an estimate of area."
   ]
  },
  {
   "cell_type": "code",
   "execution_count": 2,
   "metadata": {},
   "outputs": [
    {
     "data": {
      "image/png": "[encoded data removed]",
      "text/plain": [
       "<Figure size 432x288 with 1 Axes>"
      ]
     },
     "metadata": {
      "needs_background": "light"
     },
     "output_type": "display_data"
    },
    {
     "name": "stdout",
     "output_type": "stream",
     "text": [
      "Value of PI: 3.139924\n"
     ]
    }
   ],
   "source": [
    "N=1000000\n",
    "\n",
    "X=np.random.uniform(-1,1,N)\n",
    "Y=np.random.uniform(-1,1,N)\n",
    "\n",
    "idx=np.arange(N)[X**2+Y**2<1]\n",
    "\n",
    "plt.scatter(X,Y,color='b',s=3)\n",
    "plt.scatter(X[idx], Y[idx],color='r',s=2)\n",
    "\n",
    "plt.show()\n",
    "\n",
    "count = sum(X**2+Y**2<1) \n",
    "value = count / N * 4 \n",
    "\n",
    "print('Value of PI:', value)"
   ]
  },
  {
   "cell_type": "markdown",
   "metadata": {},
   "source": [
    "#### Example 2. Integrating a function\n",
    "\n",
    "Compute fraction of points that lie under the curve"
   ]
  },
  {
   "cell_type": "code",
   "execution_count": 3,
   "metadata": {},
   "outputs": [
    {
     "data": {
      "image/png": "[encoded data removed]",
      "text/plain": [
       "<Figure size 432x288 with 1 Axes>"
      ]
     },
     "metadata": {
      "needs_background": "light"
     },
     "output_type": "display_data"
    }
   ],
   "source": [
    "def f(x):\n",
    "    return np.sin(x)\n",
    "\n",
    "X = np.arange(0, 2*np.pi, 0.001)\n",
    "Y = list(map(lambda x: f(x), X))\n",
    "\n",
    "plt.scatter(X,Y)\n",
    "plt.show()"
   ]
  },
  {
   "cell_type": "markdown",
   "metadata": {},
   "source": [
    "Calculating area under $\\sin \\left(x\\right)$ between 0 and pi"
   ]
  },
  {
   "cell_type": "code",
   "execution_count": 4,
   "metadata": {},
   "outputs": [
    {
     "name": "stdout",
     "output_type": "stream",
     "text": [
      "Integration of sin(x) between 0 and pi: 2.001448989341639\n"
     ]
    }
   ],
   "source": [
    "N = 1000000\n",
    "X = np.random.uniform(0,np.pi,N)\n",
    "Y = np.random.uniform(0,1,N)\n",
    "\n",
    "value = sum(Y<f(X)) / N * np.pi\n",
    "print('Integration of sin(x) between 0 and pi:', value)"
   ]
  },
  {
   "cell_type": "markdown",
   "metadata": {},
   "source": [
    "#### Example 3: Application of Mean Value Theorem (MVT)\n",
    "\n",
    "Use Mean Value Theorem for Integrals to integrate functions which states that the integration can be expressed as product of average of function values with width of interval. \n",
    "\n",
    "Mathematically:\n",
    "\n",
    "\\begin{equation}\n",
    "f(x_{avg}) = \\frac{1}{b-a} \\int_{a}^{b} f(x) d x\n",
    "\\end{equation}"
   ]
  },
  {
   "cell_type": "code",
   "execution_count": 5,
   "metadata": {},
   "outputs": [
    {
     "data": {
      "text/plain": [
       "2.0000084963917635"
      ]
     },
     "execution_count": 5,
     "metadata": {},
     "output_type": "execute_result"
    }
   ],
   "source": [
    "def f(x):\n",
    "    return np.sin(x)\n",
    "\n",
    "a = 0\n",
    "b = np.pi\n",
    "N = 1000000\n",
    "X = np.random.uniform(a,b,N)\n",
    "fX = list(map(lambda x: f(x), X))\n",
    "np.mean(fX) * (b-a)"
   ]
  },
  {
   "cell_type": "markdown",
   "metadata": {},
   "source": [
    "This can be useful for functions which are hard to integrate analytically.\n",
    "\n",
    "Let's try to integrate the function: $\\sin \\left(x^{2}\\right)$, which doesn't have a simple formula for its antiderivative."
   ]
  },
  {
   "cell_type": "code",
   "execution_count": 6,
   "metadata": {},
   "outputs": [
    {
     "data": {
      "text/plain": [
       "0.773386834922035"
      ]
     },
     "execution_count": 6,
     "metadata": {},
     "output_type": "execute_result"
    }
   ],
   "source": [
    "def f(x):\n",
    "    return np.sin(x**2)\n",
    "\n",
    "a = 0\n",
    "b = np.pi\n",
    "N = 1000000\n",
    "X = np.random.uniform(a,b,N)\n",
    "fX = list(map(lambda x: f(x), X))\n",
    "np.mean(fX) * (b-a)"
   ]
  },
  {
   "cell_type": "markdown",
   "metadata": {},
   "source": [
    "#### Example 4: Simulating MCQ test\n",
    "\n",
    "We all are aware of the famous marking system (+3, -1) in Multiple Choice Questions with 4 options. If you take the expected value of marks students would get if they were to choose any option randomly, it will be:\n",
    "\\begin{equation}\n",
    "3 * 1/4 + -1 * 3/4 = 0\n",
    "\\end{equation}\n",
    "\n",
    "Let's try to check the same using Monte Carlo Simulations."
   ]
  },
  {
   "cell_type": "code",
   "execution_count": 7,
   "metadata": {},
   "outputs": [],
   "source": [
    "def generate_correct_answers(options, num_ques, seed):\n",
    "    np.random.seed(seed)\n",
    "    correct_answers = np.random.choice(options, num_ques, replace=True)\n",
    "    return correct_answers\n",
    "\n",
    "def get_marks(options, num_ques, correct_answers):\n",
    "    marked_answers = np.random.choice(options, num_ques, p = [1 / len(options)] * len(options), replace=True)\n",
    "    marks = sum(marked_answers==correct_answers) * 3 + sum(marked_answers!=correct_answers) * -1\n",
    "    return marks\n",
    "\n",
    "def simulate(num_students, num_ques, options, seed):\n",
    "    correct_answers = generate_correct_answers(options, num_ques, seed)\n",
    "    marks = []\n",
    "    for _ in tqdm(range(num_students)):\n",
    "        marks.append(get_marks(options, num_ques, correct_answers))\n",
    "    return marks"
   ]
  },
  {
   "cell_type": "code",
   "execution_count": 8,
   "metadata": {},
   "outputs": [
    {
     "name": "stderr",
     "output_type": "stream",
     "text": [
      "100%|██████████| 10000/10000 [07:23<00:00, 22.55it/s]\n"
     ]
    },
    {
     "name": "stdout",
     "output_type": "stream",
     "text": [
      "Expected Value of student marks: 0.112\n"
     ]
    },
    {
     "data": {
      "image/png": "[encoded data removed]",
      "text/plain": [
       "<Figure size 360x360 with 1 Axes>"
      ]
     },
     "metadata": {
      "needs_background": "light"
     },
     "output_type": "display_data"
    }
   ],
   "source": [
    "num_ques = 10000\n",
    "num_choices = 4\n",
    "positive_marks = 3\n",
    "negative_marks = -1\n",
    "num_students = 10000\n",
    "options = list(range(num_choices))\n",
    "seed = 42\n",
    "\n",
    "marks = simulate(num_students, num_ques, options, seed)\n",
    "print('Expected Value of student marks:', np.mean(marks).round(3))\n",
    "sns.displot(marks)\n",
    "plt.show()"
   ]
  },
  {
   "cell_type": "code",
   "execution_count": null,
   "metadata": {},
   "outputs": [],
   "source": []
  }
 ],
 "metadata": {
  "interpreter": {
   "hash": "951daa5e1959839fcb325fff331f52e72634f7a1be998f6081ed7f433b63f1b3"
  },
  "kernelspec": {
   "display_name": "Python 3.8.11 64-bit ('base': conda)",
   "name": "python3"
  },
  "language_info": {
   "codemirror_mode": {
    "name": "ipython",
    "version": 3
   },
   "file_extension": ".py",
   "mimetype": "text/x-python",
   "name": "python",
   "nbconvert_exporter": "python",
   "pygments_lexer": "ipython3",
   "version": "3.8.11"
  }
 },
 "nbformat": 4,
 "nbformat_minor": 4
}
