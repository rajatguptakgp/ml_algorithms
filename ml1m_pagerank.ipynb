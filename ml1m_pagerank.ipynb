{
 "cells": [
  {
   "cell_type": "code",
   "execution_count": 1,
   "metadata": {},
   "outputs": [],
   "source": [
    "import numpy as np\n",
    "import pandas as pd\n",
    "import networkx as nx\n",
    "import matplotlib.pyplot as plt\n",
    "from tqdm import tqdm\n",
    "from sklearn.model_selection import train_test_split\n",
    "\n",
    "import warnings\n",
    "warnings.filterwarnings('ignore')"
   ]
  },
  {
   "cell_type": "markdown",
   "metadata": {},
   "source": [
    "### Introduction\n",
    "\n",
    "1. We will implement PageRank algorithm on knowledge graph built on ML1M dataset. \n",
    "2. We will directly read the gpickle file that we saved in the notebook named [ml1m_kg_networkx](https://github.com/rajatguptakgp/practical_machine_learning/blob/main/ml1m_kg_networkx.ipynb)\n",
    "3. We will consider the PageRank scores for movies to rank them for generating predictions for users. Note that the predictions here are same for all users based on decreasing movie pagerank score, but we can also calculate something called as **Personalized PageRank (PPR)** for each user that highlights their preference for different movies. Also, no rating has been considered for predictions."
   ]
  },
  {
   "cell_type": "code",
   "execution_count": 2,
   "metadata": {},
   "outputs": [],
   "source": [
    "# config\n",
    "alpha = 0.8\n",
    "n_iter = 1000\n",
    "n_users = 5000\n",
    "n_movies = 1000\n",
    "n_genres = 18\n",
    "seed = 42\n",
    "graph_path = 'ml1m.gpickle'"
   ]
  },
  {
   "cell_type": "code",
   "execution_count": 3,
   "metadata": {},
   "outputs": [],
   "source": [
    "def make_pagerank_matrix(G, alpha):\n",
    "    n_nodes = len(G.nodes())\n",
    "\n",
    "    # building adjacent matrix\n",
    "    adj_matrix = np.zeros(shape=(n_nodes, n_nodes))\n",
    "    for edge in G.edges():\n",
    "        adj_matrix[edge[0], edge[1]] = 1\n",
    "\n",
    "    # building transition probability matrix\n",
    "    tran_matrix = adj_matrix / np.sum(adj_matrix, axis=1).reshape(-1,1)\n",
    "    tran_matrix = np.nan_to_num(tran_matrix)\n",
    "    \n",
    "    # building random surfer matrix\n",
    "    random_surf = np.ones(shape = (n_nodes, n_nodes)) / n_nodes    \n",
    "\n",
    "    # building transition matrix for absorbing nodes\n",
    "    absorbing_nodes = np.zeros(shape = (n_nodes,))\n",
    "    for node in G.nodes():\n",
    "        if len(G.successors(node))==0:\n",
    "            absorbing_nodes[node] = 1\n",
    "    absorbing_node_matrix = np.outer(absorbing_nodes, np.ones(shape = (n_nodes,))) / n_nodes\n",
    "\n",
    "    # stochastic matrix\n",
    "    stochastic_matrix = tran_matrix + absorbing_node_matrix\n",
    "\n",
    "    # pagerank matrix\n",
    "    pagerank_matrix = alpha * stochastic_matrix + (1-alpha) * random_surf\n",
    "    return pagerank_matrix"
   ]
  },
  {
   "cell_type": "code",
   "execution_count": 4,
   "metadata": {},
   "outputs": [],
   "source": [
    "def random_walk(G, alpha, n_iter):\n",
    "    n_nodes = len(G.nodes())\n",
    "    initial_state = np.ones(shape=(n_nodes,)) / n_nodes\n",
    "    pagerank_matrix = make_pagerank_matrix(G, alpha)\n",
    "\n",
    "    new_initial_state = initial_state\n",
    "    print('Running random walk..')\n",
    "    NORM = []\n",
    "    for i in tqdm(range(n_iter)):\n",
    "        final_state = np.dot(np.transpose(pagerank_matrix), new_initial_state)\n",
    "        \n",
    "        prev_initial_state = new_initial_state\n",
    "        new_initial_state = final_state\n",
    "        L2 = np.linalg.norm(new_initial_state-prev_initial_state)\n",
    "        NORM.append(L2)\n",
    "        if np.allclose(new_initial_state, prev_initial_state):\n",
    "            print(f'Converged at {i+1} iterations..')\n",
    "            break\n",
    "\n",
    "    plt.figure(figsize=(5,4))\n",
    "    plt.plot(range(i+1), NORM)\n",
    "    plt.xlabel('iterations')\n",
    "    plt.ylabel('Euclidean Norm')\n",
    "    plt.title('Convergence plot')\n",
    "    plt.show()\n",
    "    return final_state"
   ]
  },
  {
   "cell_type": "code",
   "execution_count": 5,
   "metadata": {},
   "outputs": [],
   "source": [
    "def run(G, alpha, n_iter):\n",
    "    final_probs = random_walk(G, alpha, n_iter)\n",
    "\n",
    "    # ensuring pagerank importance for each node\n",
    "    assert len(final_probs) == len(G.nodes())\n",
    "\n",
    "    # ensuring probabilities sum to 1\n",
    "    assert np.allclose(np.sum(final_probs), 1)\n",
    "\n",
    "    return final_probs"
   ]
  },
  {
   "cell_type": "code",
   "execution_count": 6,
   "metadata": {},
   "outputs": [
    {
     "name": "stdout",
     "output_type": "stream",
     "text": [
      "Number of nodes:  9940\n",
      "Number of edges:  1511854\n",
      "\n",
      "Relabelling nodes to integers..\n",
      "Running random walk..\n"
     ]
    },
    {
     "name": "stderr",
     "output_type": "stream",
     "text": [
      "  5%|▍         | 46/1000 [00:02<00:54, 17.58it/s]\n"
     ]
    },
    {
     "name": "stdout",
     "output_type": "stream",
     "text": [
      "Converged at 47 iterations..\n"
     ]
    },
    {
     "data": {
      "image/png": "[encoded data removed]",
      "text/plain": [
       "<Figure size 500x400 with 1 Axes>"
      ]
     },
     "metadata": {},
     "output_type": "display_data"
    }
   ],
   "source": [
    "# loading networkx graph\n",
    "G = nx.read_gpickle(graph_path)\n",
    "\n",
    "print('Number of nodes: ', len(G.nodes()))\n",
    "print('Number of edges: ', len(G.edges()))\n",
    "\n",
    "print()\n",
    "print('Relabelling nodes to integers..')\n",
    "n_unique_nodes = len(set(G.nodes()))\n",
    "node2int = dict(zip(set(G.nodes()), range(n_unique_nodes)))\n",
    "int2node = {v:k for k,v in node2int.items()}\n",
    "G = nx.relabel_nodes(G, node2int)\n",
    "final_probs = run(G, alpha, n_iter)\n",
    "G = nx.relabel_nodes(G, int2node)\n",
    "pagerank_scores = dict(zip(G.nodes(), final_probs))"
   ]
  },
  {
   "cell_type": "code",
   "execution_count": 7,
   "metadata": {},
   "outputs": [],
   "source": [
    "with open('ml-1m/movies.dat','r', encoding=\"ISO-8859-1\") as f:\n",
    "    data = f.read().splitlines()\n",
    "\n",
    "data = list(map(lambda x: x.split('::'), data))\n",
    "movies_df = pd.DataFrame(data, columns = ['movieID','title','genres'])\n",
    "movies_df['movieID'] = movies_df['movieID'].astype('int')\n",
    "movieID2name = dict(zip(movies_df['movieID'].values, movies_df['title'].values))"
   ]
  },
  {
   "cell_type": "code",
   "execution_count": 8,
   "metadata": {},
   "outputs": [],
   "source": [
    "with open('ml-1m/ratings.dat','r', encoding=\"ISO-8859-1\") as f:\n",
    "    data = f.read().splitlines()\n",
    "\n",
    "data = list(map(lambda x: x.split('::'), data))\n",
    "ratings_df = pd.DataFrame(data, columns = ['userID','movieID','rating','timestamp'])\n",
    "ratings_df[['userID','movieID','rating']] = ratings_df[['userID','movieID','rating']].astype('int')"
   ]
  },
  {
   "cell_type": "code",
   "execution_count": 9,
   "metadata": {},
   "outputs": [
    {
     "data": {
      "text/plain": [
       "((900188, 4), (100021, 4))"
      ]
     },
     "execution_count": 9,
     "metadata": {},
     "output_type": "execute_result"
    }
   ],
   "source": [
    "# splitting data into training and validation split for recommendation\n",
    "# using same split (seed) which was used in creating the knowledge graph\n",
    "ratings_df, ratings_val = train_test_split(ratings_df, test_size=0.1, random_state=42)\n",
    "ratings_df.shape, ratings_val.shape"
   ]
  },
  {
   "cell_type": "code",
   "execution_count": 10,
   "metadata": {},
   "outputs": [
    {
     "name": "stdout",
     "output_type": "stream",
     "text": [
      "Top 5 rated movies..\n"
     ]
    },
    {
     "data": {
      "text/plain": [
       "['Simon Birch (1998)',\n",
       " 'In the Company of Men (1997)',\n",
       " \"Schindler's List (1993)\",\n",
       " 'Big (1988)',\n",
       " \"Puppet Master III: Toulon's Revenge (1991)\"]"
      ]
     },
     "execution_count": 10,
     "metadata": {},
     "output_type": "execute_result"
    }
   ],
   "source": [
    "ranking = []\n",
    "for node, score in pagerank_scores.items():\n",
    "    if isinstance(node, int) and node>0:\n",
    "        ranking.append([node, score])\n",
    "\n",
    "# sorting movies in decreasing order of pagerank scores\n",
    "# this list serves as top movie recommendations for any user\n",
    "sorted_movies = np.array(sorted(ranking, key=lambda x:x[1], reverse=True)).astype('int')[:, 0].tolist()\n",
    "\n",
    "print('Top 5 rated movies..')\n",
    "list(map(lambda x: movieID2name[x], sorted_movies))[:5]"
   ]
  },
  {
   "cell_type": "code",
   "execution_count": 11,
   "metadata": {},
   "outputs": [],
   "source": [
    "gt = {}\n",
    "pred = {}\n",
    "ratings_val = ratings_val.reset_index(drop=True)\n",
    "\n",
    "# getting ground truth data\n",
    "for idx in range(len(ratings_val)):\n",
    "    userID = ratings_val.loc[idx, 'userID']\n",
    "    movieID = ratings_val.loc[idx, 'movieID']\n",
    "    rating = ratings_val.loc[idx, 'rating']\n",
    "    if gt.get(userID):\n",
    "        gt[userID].append([movieID, rating])\n",
    "    else:\n",
    "        gt[userID] = [[movieID, rating]]\n",
    "\n",
    "# sorting movies according to ratings\n",
    "for k, v in gt.items():\n",
    "    gt[k] = np.array(sorted(gt[k], key = lambda x: x[1], reverse=True)).astype('int')[:, 0].tolist()  \n",
    "\n",
    "# getting predictions based on pagerank scores\n",
    "for k, v in gt.items():\n",
    "    pred[k] = sorted_movies[:len(gt[k])]          "
   ]
  },
  {
   "cell_type": "code",
   "execution_count": 12,
   "metadata": {},
   "outputs": [],
   "source": [
    "def hit_k(act, pred, k):\n",
    "    act_set = set(act)\n",
    "    pred_set = set(pred[:k])   \n",
    "    common_set = act_set & pred_set   \n",
    "    if (len(common_set)>0):\n",
    "        return 1\n",
    "    else:\n",
    "        return 0\n",
    "    \n",
    "def precision_k(act, pred, k):\n",
    "    act_set = set(act)\n",
    "    pred_set = set(pred[:k])    \n",
    "    common_set = act_set & pred_set   \n",
    "    if len(pred_set)==0:\n",
    "        return 0\n",
    "    else:\n",
    "        return len(common_set) / len(pred_set)\n",
    "\n",
    "def recall_k(act, pred, k):\n",
    "    act_set = set(act)\n",
    "    pred_set = set(pred[:k])   \n",
    "    common_set = act_set & pred_set\n",
    "    if len(act_set)==0:\n",
    "        return 0\n",
    "    else:\n",
    "        return len(common_set) / len(act_set)\n",
    "\n",
    "def mean_reciprocal_rank_k(act, pred, k):\n",
    "    found = 0\n",
    "    for i in range(len(pred)):\n",
    "        if pred[i] in act[:k]:\n",
    "            found = 1\n",
    "            break\n",
    "    if found:\n",
    "        mrr = 1 / (i+1)\n",
    "    else:\n",
    "        mrr = 0\n",
    "    return mrr"
   ]
  },
  {
   "cell_type": "markdown",
   "metadata": {},
   "source": [
    "#### Order unaware metrics:\n",
    "1. Hit@K\n",
    "2. Precision@K\n",
    "3. Recall@K\n",
    "4. F1@K\n",
    "\n",
    "#### Order aware metrics:\n",
    "1. MRR@K\n",
    "\n",
    "For more information: [Recommendation Evaluation Metrics](https://github.com/rajatguptakgp/ml_from_scratch/blob/master/recommendation_evaluation_metrics.ipynb)"
   ]
  },
  {
   "cell_type": "code",
   "execution_count": 13,
   "metadata": {},
   "outputs": [],
   "source": [
    "hit = {}\n",
    "rec = {}\n",
    "prec = {}\n",
    "mrr = {}\n",
    "\n",
    "topK = [5, 10, 20, 50, 100, 200]\n",
    "\n",
    "for i in topK:\n",
    "    hit[i] = [0, 0]\n",
    "    rec[i] = [0, 0]\n",
    "    prec[i] = [0, 0]\n",
    "    mrr[i] = [0, 0]\n",
    "\n",
    "for user in gt.keys():\n",
    "    for topk in rec.keys():\n",
    "        # if number of predictions are less than topK, skip \n",
    "        if len(pred[user])<topk:\n",
    "            break\n",
    "\n",
    "        h = hit_k(gt[user], pred[user], topk)\n",
    "        r = recall_k(gt[user], pred[user], topk)\n",
    "        p = precision_k(gt[user], pred[user], topk)\n",
    "        m = mean_reciprocal_rank_k(gt[user], pred[user], topk)\n",
    "\n",
    "        hit[topk] = [hit[topk][0]+h, hit[topk][1]+1]\n",
    "        rec[topk] = [rec[topk][0]+r, rec[topk][1]+1]\n",
    "        prec[topk] = [prec[topk][0]+p, prec[topk][1]+1]\n",
    "        mrr[topk] = [mrr[topk][0]+m, mrr[topk][1]+1]"
   ]
  },
  {
   "cell_type": "code",
   "execution_count": 14,
   "metadata": {},
   "outputs": [
    {
     "data": {
      "text/html": [
       "<div>\n",
       "<style scoped>\n",
       "    .dataframe tbody tr th:only-of-type {\n",
       "        vertical-align: middle;\n",
       "    }\n",
       "\n",
       "    .dataframe tbody tr th {\n",
       "        vertical-align: top;\n",
       "    }\n",
       "\n",
       "    .dataframe thead th {\n",
       "        text-align: right;\n",
       "    }\n",
       "</style>\n",
       "<table border=\"1\" class=\"dataframe\">\n",
       "  <thead>\n",
       "    <tr style=\"text-align: right;\">\n",
       "      <th></th>\n",
       "      <th>K</th>\n",
       "      <th>Precision@K</th>\n",
       "      <th>Recall@K</th>\n",
       "      <th>F1@K</th>\n",
       "      <th>Hit@K</th>\n",
       "      <th>MRR@K</th>\n",
       "    </tr>\n",
       "  </thead>\n",
       "  <tbody>\n",
       "    <tr>\n",
       "      <th>0</th>\n",
       "      <td>5</td>\n",
       "      <td>0.016156</td>\n",
       "      <td>0.004198</td>\n",
       "      <td>0.006665</td>\n",
       "      <td>0.076751</td>\n",
       "      <td>0.013310</td>\n",
       "    </tr>\n",
       "    <tr>\n",
       "      <th>1</th>\n",
       "      <td>10</td>\n",
       "      <td>0.019650</td>\n",
       "      <td>0.007468</td>\n",
       "      <td>0.010823</td>\n",
       "      <td>0.169749</td>\n",
       "      <td>0.025713</td>\n",
       "    </tr>\n",
       "    <tr>\n",
       "      <th>2</th>\n",
       "      <td>20</td>\n",
       "      <td>0.018597</td>\n",
       "      <td>0.009552</td>\n",
       "      <td>0.012621</td>\n",
       "      <td>0.294118</td>\n",
       "      <td>0.046038</td>\n",
       "    </tr>\n",
       "    <tr>\n",
       "      <th>3</th>\n",
       "      <td>50</td>\n",
       "      <td>0.026005</td>\n",
       "      <td>0.017669</td>\n",
       "      <td>0.021042</td>\n",
       "      <td>0.687345</td>\n",
       "      <td>0.090135</td>\n",
       "    </tr>\n",
       "    <tr>\n",
       "      <th>4</th>\n",
       "      <td>100</td>\n",
       "      <td>0.038627</td>\n",
       "      <td>0.031686</td>\n",
       "      <td>0.034814</td>\n",
       "      <td>0.960784</td>\n",
       "      <td>0.117243</td>\n",
       "    </tr>\n",
       "    <tr>\n",
       "      <th>5</th>\n",
       "      <td>200</td>\n",
       "      <td>0.040000</td>\n",
       "      <td>0.033333</td>\n",
       "      <td>0.036364</td>\n",
       "      <td>1.000000</td>\n",
       "      <td>0.083333</td>\n",
       "    </tr>\n",
       "  </tbody>\n",
       "</table>\n",
       "</div>"
      ],
      "text/plain": [
       "     K  Precision@K  Recall@K      F1@K     Hit@K     MRR@K\n",
       "0    5     0.016156  0.004198  0.006665  0.076751  0.013310\n",
       "1   10     0.019650  0.007468  0.010823  0.169749  0.025713\n",
       "2   20     0.018597  0.009552  0.012621  0.294118  0.046038\n",
       "3   50     0.026005  0.017669  0.021042  0.687345  0.090135\n",
       "4  100     0.038627  0.031686  0.034814  0.960784  0.117243\n",
       "5  200     0.040000  0.033333  0.036364  1.000000  0.083333"
      ]
     },
     "execution_count": 14,
     "metadata": {},
     "output_type": "execute_result"
    }
   ],
   "source": [
    "def calculate_scores(metric):    \n",
    "    values_normalized = []\n",
    "    for v in metric.values():\n",
    "        values_normalized.append(v[0]/max(v[1],1))\n",
    "    return values_normalized\n",
    "\n",
    "labels=['Precision@K','Recall@K','Hit@K','MRR@K']\n",
    "metrics=[prec,rec,hit,mrr]\n",
    "\n",
    "df_scores = pd.DataFrame(index=topK, columns=['Precision@K','Recall@K','F1@K','Hit@K','MRR@K'])\n",
    "\n",
    "for label, metric in zip(labels, metrics):\n",
    "    scores = calculate_scores(metric)\n",
    "    df_scores[label]=scores\n",
    "\n",
    "df_scores['F1@K']=(2 * df_scores['Recall@K'] * df_scores['Precision@K'])/(df_scores['Recall@K'] + df_scores['Precision@K'])\n",
    "df_scores = df_scores.reset_index()\n",
    "df_scores.rename(columns={'index':'K'}, inplace=True)\n",
    "df_scores"
   ]
  },
  {
   "cell_type": "code",
   "execution_count": 15,
   "metadata": {},
   "outputs": [
    {
     "data": {
      "text/plain": [
       "0.02743462593567672"
      ]
     },
     "execution_count": 15,
     "metadata": {},
     "output_type": "execute_result"
    }
   ],
   "source": [
    "def mean_reciprocal_rank(gt, predictions):\n",
    "    def find_reciprocal_rank(act, pred):\n",
    "        assert len(act) == len(pred)\n",
    "        pred = np.array(pred)\n",
    "        for p in pred:\n",
    "            if p in act:\n",
    "                rank = np.where(pred==p)[0][0] + 1\n",
    "                return 1/rank\n",
    "        return 0\n",
    "    return np.mean(list(map(lambda x, y: find_reciprocal_rank(x, y), gt, predictions)))\n",
    "\n",
    "# getting overall MRR\n",
    "user_rated_movies = list(gt.values())\n",
    "predictions = list(pred.values())\n",
    "mean_reciprocal_rank(user_rated_movies, predictions)"
   ]
  },
  {
   "cell_type": "code",
   "execution_count": 16,
   "metadata": {},
   "outputs": [
    {
     "data": {
      "image/png": "[encoded data removed]",
      "text/plain": [
       "<Figure size 1360x400 with 3 Axes>"
      ]
     },
     "metadata": {},
     "output_type": "display_data"
    },
    {
     "data": {
      "image/png": "[encoded data removed]",
      "text/plain": [
       "<Figure size 1440x400 with 2 Axes>"
      ]
     },
     "metadata": {},
     "output_type": "display_data"
    }
   ],
   "source": [
    "def return_plot(df_scores,label):\n",
    "    X=df_scores.K\n",
    "    Y=df_scores[label].values\n",
    "    \n",
    "    plt.title(f'{label}')\n",
    "    plt.xlabel('K')\n",
    "    plt.ylabel('Values')\n",
    "    plt.xticks(X)\n",
    "    plt.plot(X,Y,c='k',linestyle='--',marker='o')\n",
    "    return plt\n",
    "\n",
    "fig=plt.figure(figsize=(17, 5), dpi= 80, facecolor='w', edgecolor='k')\n",
    "plt.subplot(131)\n",
    "plt1 = return_plot(df_scores,'Precision@K')\n",
    "plt.subplot(132)\n",
    "plt2 = return_plot(df_scores,'Recall@K')\n",
    "plt.subplot(133)\n",
    "plt3 = return_plot(df_scores,'F1@K')\n",
    "plt.show()\n",
    "\n",
    "fig=plt.figure(figsize=(18, 5), dpi= 80, facecolor='w', edgecolor='k')\n",
    "plt.subplot(121)\n",
    "plt4 = return_plot(df_scores,'Hit@K')\n",
    "plt.subplot(122)\n",
    "plt5 = return_plot(df_scores,'MRR@K')\n",
    "plt.show()"
   ]
  },
  {
   "cell_type": "code",
   "execution_count": null,
   "metadata": {},
   "outputs": [],
   "source": []
  }
 ],
 "metadata": {
  "interpreter": {
   "hash": "951daa5e1959839fcb325fff331f52e72634f7a1be998f6081ed7f433b63f1b3"
  },
  "kernelspec": {
   "display_name": "Python 3.8.11 64-bit ('base': conda)",
   "language": "python",
   "name": "python3"
  },
  "language_info": {
   "codemirror_mode": {
    "name": "ipython",
    "version": 3
   },
   "file_extension": ".py",
   "mimetype": "text/x-python",
   "name": "python",
   "nbconvert_exporter": "python",
   "pygments_lexer": "ipython3",
   "version": "3.8.11"
  },
  "orig_nbformat": 4
 },
 "nbformat": 4,
 "nbformat_minor": 2
}
